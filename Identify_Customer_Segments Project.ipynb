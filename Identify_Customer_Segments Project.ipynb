{
 "cells": [
  {
   "cell_type": "markdown",
   "metadata": {},
   "source": [
    "# Project: Identify Customer Segments\n",
    "\n",
    "In this project, you will apply unsupervised learning techniques to identify segments of the population that form the core customer base for a mail-order sales company in Germany. These segments can then be used to direct marketing campaigns towards audiences that will have the highest expected rate of returns. The data that you will use has been provided by our partners at Bertelsmann Arvato Analytics, and represents a real-life data science task.\n",
    "\n",
    "This notebook will help you complete this task by providing a framework within which you will perform your analysis steps. In each step of the project, you will see some text describing the subtask that you will perform, followed by one or more code cells for you to complete your work. **Feel free to add additional code and markdown cells as you go along so that you can explore everything in precise chunks.** The code cells provided in the base template will outline only the major tasks, and will usually not be enough to cover all of the minor tasks that comprise it.\n",
    "\n",
    "It should be noted that while there will be precise guidelines on how you should handle certain tasks in the project, there will also be places where an exact specification is not provided. **There will be times in the project where you will need to make and justify your own decisions on how to treat the data.** These are places where there may not be only one way to handle the data. In real-life tasks, there may be many valid ways to approach an analysis task. One of the most important things you can do is clearly document your approach so that other scientists can understand the decisions you've made.\n",
    "\n",
    "At the end of most sections, there will be a Markdown cell labeled **Discussion**. In these cells, you will report your findings for the completed section, as well as document the decisions that you made in your approach to each subtask. **Your project will be evaluated not just on the code used to complete the tasks outlined, but also your communication about your observations and conclusions at each stage.**"
   ]
  },
  {
   "cell_type": "code",
   "execution_count": 85,
   "metadata": {
    "scrolled": true
   },
   "outputs": [
    {
     "data": {
      "text/plain": [
       "'\\nImport note: The classroom currently uses sklearn version 0.19.\\nIf you need to use an imputer, it is available in sklearn.preprocessing.Imputer,\\ninstead of sklearn.impute as in newer versions of sklearn.\\n'"
      ]
     },
     "execution_count": 85,
     "metadata": {},
     "output_type": "execute_result"
    }
   ],
   "source": [
    "# import libraries here; add more as necessary\n",
    "import numpy as np\n",
    "import pandas as pd\n",
    "import matplotlib.pyplot as plt\n",
    "import seaborn as sns\n",
    "from sklearn.preprocessing import Imputer\n",
    "from sklearn import preprocessing as p\n",
    "from sklearn.decomposition import PCA\n",
    "from sklearn.cluster import KMeans\n",
    "# magic word for producing visualizations in notebook\n",
    "%matplotlib inline\n",
    "\n",
    "'''\n",
    "Import note: The classroom currently uses sklearn version 0.19.\n",
    "If you need to use an imputer, it is available in sklearn.preprocessing.Imputer,\n",
    "instead of sklearn.impute as in newer versions of sklearn.\n",
    "'''"
   ]
  },
  {
   "cell_type": "markdown",
   "metadata": {},
   "source": [
    "### Step 0: Load the Data\n",
    "\n",
    "There are four files associated with this project (not including this one):\n",
    "\n",
    "- `Udacity_AZDIAS_Subset.csv`: Demographics data for the general population of Germany; 891211 persons (rows) x 85 features (columns).\n",
    "- `Udacity_CUSTOMERS_Subset.csv`: Demographics data for customers of a mail-order company; 191652 persons (rows) x 85 features (columns).\n",
    "- `Data_Dictionary.md`: Detailed information file about the features in the provided datasets.\n",
    "- `AZDIAS_Feature_Summary.csv`: Summary of feature attributes for demographics data; 85 features (rows) x 4 columns\n",
    "\n",
    "Each row of the demographics files represents a single person, but also includes information outside of individuals, including information about their household, building, and neighborhood. You will use this information to cluster the general population into groups with similar demographic properties. Then, you will see how the people in the customers dataset fit into those created clusters. The hope here is that certain clusters are over-represented in the customers data, as compared to the general population; those over-represented clusters will be assumed to be part of the core userbase. This information can then be used for further applications, such as targeting for a marketing campaign.\n",
    "\n",
    "To start off with, load in the demographics data for the general population into a pandas DataFrame, and do the same for the feature attributes summary. Note for all of the `.csv` data files in this project: they're semicolon (`;`) delimited, so you'll need an additional argument in your [`read_csv()`](https://pandas.pydata.org/pandas-docs/stable/generated/pandas.read_csv.html) call to read in the data properly. Also, considering the size of the main dataset, it may take some time for it to load completely.\n",
    "\n",
    "Once the dataset is loaded, it's recommended that you take a little bit of time just browsing the general structure of the dataset and feature summary file. You'll be getting deep into the innards of the cleaning in the first major step of the project, so gaining some general familiarity can help you get your bearings."
   ]
  },
  {
   "cell_type": "code",
   "execution_count": 2,
   "metadata": {},
   "outputs": [],
   "source": [
    "# Load in the general demographics data.\n",
    "azdias = pd.read_csv('Udacity_AZDIAS_Subset.csv', delimiter = ';')\n",
    "\n",
    "# Load in the feature summary file.\n",
    "feat_info = pd.read_csv('AZDIAS_Feature_Summary.csv', delimiter = ';')"
   ]
  },
  {
   "cell_type": "code",
   "execution_count": 3,
   "metadata": {},
   "outputs": [
    {
     "name": "stdout",
     "output_type": "stream",
     "text": [
      "(85, 4)\n"
     ]
    },
    {
     "data": {
      "text/html": [
       "<div>\n",
       "<style scoped>\n",
       "    .dataframe tbody tr th:only-of-type {\n",
       "        vertical-align: middle;\n",
       "    }\n",
       "\n",
       "    .dataframe tbody tr th {\n",
       "        vertical-align: top;\n",
       "    }\n",
       "\n",
       "    .dataframe thead th {\n",
       "        text-align: right;\n",
       "    }\n",
       "</style>\n",
       "<table border=\"1\" class=\"dataframe\">\n",
       "  <thead>\n",
       "    <tr style=\"text-align: right;\">\n",
       "      <th></th>\n",
       "      <th>attribute</th>\n",
       "      <th>information_level</th>\n",
       "      <th>type</th>\n",
       "      <th>missing_or_unknown</th>\n",
       "    </tr>\n",
       "  </thead>\n",
       "  <tbody>\n",
       "    <tr>\n",
       "      <th>0</th>\n",
       "      <td>AGER_TYP</td>\n",
       "      <td>person</td>\n",
       "      <td>categorical</td>\n",
       "      <td>[-1,0]</td>\n",
       "    </tr>\n",
       "    <tr>\n",
       "      <th>1</th>\n",
       "      <td>ALTERSKATEGORIE_GROB</td>\n",
       "      <td>person</td>\n",
       "      <td>ordinal</td>\n",
       "      <td>[-1,0,9]</td>\n",
       "    </tr>\n",
       "    <tr>\n",
       "      <th>2</th>\n",
       "      <td>ANREDE_KZ</td>\n",
       "      <td>person</td>\n",
       "      <td>categorical</td>\n",
       "      <td>[-1,0]</td>\n",
       "    </tr>\n",
       "    <tr>\n",
       "      <th>3</th>\n",
       "      <td>CJT_GESAMTTYP</td>\n",
       "      <td>person</td>\n",
       "      <td>categorical</td>\n",
       "      <td>[0]</td>\n",
       "    </tr>\n",
       "    <tr>\n",
       "      <th>4</th>\n",
       "      <td>FINANZ_MINIMALIST</td>\n",
       "      <td>person</td>\n",
       "      <td>ordinal</td>\n",
       "      <td>[-1]</td>\n",
       "    </tr>\n",
       "    <tr>\n",
       "      <th>5</th>\n",
       "      <td>FINANZ_SPARER</td>\n",
       "      <td>person</td>\n",
       "      <td>ordinal</td>\n",
       "      <td>[-1]</td>\n",
       "    </tr>\n",
       "    <tr>\n",
       "      <th>6</th>\n",
       "      <td>FINANZ_VORSORGER</td>\n",
       "      <td>person</td>\n",
       "      <td>ordinal</td>\n",
       "      <td>[-1]</td>\n",
       "    </tr>\n",
       "    <tr>\n",
       "      <th>7</th>\n",
       "      <td>FINANZ_ANLEGER</td>\n",
       "      <td>person</td>\n",
       "      <td>ordinal</td>\n",
       "      <td>[-1]</td>\n",
       "    </tr>\n",
       "    <tr>\n",
       "      <th>8</th>\n",
       "      <td>FINANZ_UNAUFFAELLIGER</td>\n",
       "      <td>person</td>\n",
       "      <td>ordinal</td>\n",
       "      <td>[-1]</td>\n",
       "    </tr>\n",
       "    <tr>\n",
       "      <th>9</th>\n",
       "      <td>FINANZ_HAUSBAUER</td>\n",
       "      <td>person</td>\n",
       "      <td>ordinal</td>\n",
       "      <td>[-1]</td>\n",
       "    </tr>\n",
       "    <tr>\n",
       "      <th>10</th>\n",
       "      <td>FINANZTYP</td>\n",
       "      <td>person</td>\n",
       "      <td>categorical</td>\n",
       "      <td>[-1]</td>\n",
       "    </tr>\n",
       "    <tr>\n",
       "      <th>11</th>\n",
       "      <td>GEBURTSJAHR</td>\n",
       "      <td>person</td>\n",
       "      <td>numeric</td>\n",
       "      <td>[0]</td>\n",
       "    </tr>\n",
       "    <tr>\n",
       "      <th>12</th>\n",
       "      <td>GFK_URLAUBERTYP</td>\n",
       "      <td>person</td>\n",
       "      <td>categorical</td>\n",
       "      <td>[]</td>\n",
       "    </tr>\n",
       "    <tr>\n",
       "      <th>13</th>\n",
       "      <td>GREEN_AVANTGARDE</td>\n",
       "      <td>person</td>\n",
       "      <td>categorical</td>\n",
       "      <td>[]</td>\n",
       "    </tr>\n",
       "    <tr>\n",
       "      <th>14</th>\n",
       "      <td>HEALTH_TYP</td>\n",
       "      <td>person</td>\n",
       "      <td>ordinal</td>\n",
       "      <td>[-1,0]</td>\n",
       "    </tr>\n",
       "    <tr>\n",
       "      <th>15</th>\n",
       "      <td>LP_LEBENSPHASE_FEIN</td>\n",
       "      <td>person</td>\n",
       "      <td>mixed</td>\n",
       "      <td>[0]</td>\n",
       "    </tr>\n",
       "    <tr>\n",
       "      <th>16</th>\n",
       "      <td>LP_LEBENSPHASE_GROB</td>\n",
       "      <td>person</td>\n",
       "      <td>mixed</td>\n",
       "      <td>[0]</td>\n",
       "    </tr>\n",
       "    <tr>\n",
       "      <th>17</th>\n",
       "      <td>LP_FAMILIE_FEIN</td>\n",
       "      <td>person</td>\n",
       "      <td>categorical</td>\n",
       "      <td>[0]</td>\n",
       "    </tr>\n",
       "    <tr>\n",
       "      <th>18</th>\n",
       "      <td>LP_FAMILIE_GROB</td>\n",
       "      <td>person</td>\n",
       "      <td>categorical</td>\n",
       "      <td>[0]</td>\n",
       "    </tr>\n",
       "    <tr>\n",
       "      <th>19</th>\n",
       "      <td>LP_STATUS_FEIN</td>\n",
       "      <td>person</td>\n",
       "      <td>categorical</td>\n",
       "      <td>[0]</td>\n",
       "    </tr>\n",
       "    <tr>\n",
       "      <th>20</th>\n",
       "      <td>LP_STATUS_GROB</td>\n",
       "      <td>person</td>\n",
       "      <td>categorical</td>\n",
       "      <td>[0]</td>\n",
       "    </tr>\n",
       "    <tr>\n",
       "      <th>21</th>\n",
       "      <td>NATIONALITAET_KZ</td>\n",
       "      <td>person</td>\n",
       "      <td>categorical</td>\n",
       "      <td>[-1,0]</td>\n",
       "    </tr>\n",
       "    <tr>\n",
       "      <th>22</th>\n",
       "      <td>PRAEGENDE_JUGENDJAHRE</td>\n",
       "      <td>person</td>\n",
       "      <td>mixed</td>\n",
       "      <td>[-1,0]</td>\n",
       "    </tr>\n",
       "    <tr>\n",
       "      <th>23</th>\n",
       "      <td>RETOURTYP_BK_S</td>\n",
       "      <td>person</td>\n",
       "      <td>ordinal</td>\n",
       "      <td>[0]</td>\n",
       "    </tr>\n",
       "    <tr>\n",
       "      <th>24</th>\n",
       "      <td>SEMIO_SOZ</td>\n",
       "      <td>person</td>\n",
       "      <td>ordinal</td>\n",
       "      <td>[-1,9]</td>\n",
       "    </tr>\n",
       "    <tr>\n",
       "      <th>25</th>\n",
       "      <td>SEMIO_FAM</td>\n",
       "      <td>person</td>\n",
       "      <td>ordinal</td>\n",
       "      <td>[-1,9]</td>\n",
       "    </tr>\n",
       "    <tr>\n",
       "      <th>26</th>\n",
       "      <td>SEMIO_REL</td>\n",
       "      <td>person</td>\n",
       "      <td>ordinal</td>\n",
       "      <td>[-1,9]</td>\n",
       "    </tr>\n",
       "    <tr>\n",
       "      <th>27</th>\n",
       "      <td>SEMIO_MAT</td>\n",
       "      <td>person</td>\n",
       "      <td>ordinal</td>\n",
       "      <td>[-1,9]</td>\n",
       "    </tr>\n",
       "    <tr>\n",
       "      <th>28</th>\n",
       "      <td>SEMIO_VERT</td>\n",
       "      <td>person</td>\n",
       "      <td>ordinal</td>\n",
       "      <td>[-1,9]</td>\n",
       "    </tr>\n",
       "    <tr>\n",
       "      <th>29</th>\n",
       "      <td>SEMIO_LUST</td>\n",
       "      <td>person</td>\n",
       "      <td>ordinal</td>\n",
       "      <td>[-1,9]</td>\n",
       "    </tr>\n",
       "    <tr>\n",
       "      <th>...</th>\n",
       "      <td>...</td>\n",
       "      <td>...</td>\n",
       "      <td>...</td>\n",
       "      <td>...</td>\n",
       "    </tr>\n",
       "    <tr>\n",
       "      <th>55</th>\n",
       "      <td>OST_WEST_KZ</td>\n",
       "      <td>building</td>\n",
       "      <td>categorical</td>\n",
       "      <td>[-1]</td>\n",
       "    </tr>\n",
       "    <tr>\n",
       "      <th>56</th>\n",
       "      <td>WOHNLAGE</td>\n",
       "      <td>building</td>\n",
       "      <td>mixed</td>\n",
       "      <td>[-1]</td>\n",
       "    </tr>\n",
       "    <tr>\n",
       "      <th>57</th>\n",
       "      <td>CAMEO_DEUG_2015</td>\n",
       "      <td>microcell_rr4</td>\n",
       "      <td>categorical</td>\n",
       "      <td>[-1,X]</td>\n",
       "    </tr>\n",
       "    <tr>\n",
       "      <th>58</th>\n",
       "      <td>CAMEO_DEU_2015</td>\n",
       "      <td>microcell_rr4</td>\n",
       "      <td>categorical</td>\n",
       "      <td>[XX]</td>\n",
       "    </tr>\n",
       "    <tr>\n",
       "      <th>59</th>\n",
       "      <td>CAMEO_INTL_2015</td>\n",
       "      <td>microcell_rr4</td>\n",
       "      <td>mixed</td>\n",
       "      <td>[-1,XX]</td>\n",
       "    </tr>\n",
       "    <tr>\n",
       "      <th>60</th>\n",
       "      <td>KBA05_ANTG1</td>\n",
       "      <td>microcell_rr3</td>\n",
       "      <td>ordinal</td>\n",
       "      <td>[-1]</td>\n",
       "    </tr>\n",
       "    <tr>\n",
       "      <th>61</th>\n",
       "      <td>KBA05_ANTG2</td>\n",
       "      <td>microcell_rr3</td>\n",
       "      <td>ordinal</td>\n",
       "      <td>[-1]</td>\n",
       "    </tr>\n",
       "    <tr>\n",
       "      <th>62</th>\n",
       "      <td>KBA05_ANTG3</td>\n",
       "      <td>microcell_rr3</td>\n",
       "      <td>ordinal</td>\n",
       "      <td>[-1]</td>\n",
       "    </tr>\n",
       "    <tr>\n",
       "      <th>63</th>\n",
       "      <td>KBA05_ANTG4</td>\n",
       "      <td>microcell_rr3</td>\n",
       "      <td>ordinal</td>\n",
       "      <td>[-1]</td>\n",
       "    </tr>\n",
       "    <tr>\n",
       "      <th>64</th>\n",
       "      <td>KBA05_BAUMAX</td>\n",
       "      <td>microcell_rr3</td>\n",
       "      <td>mixed</td>\n",
       "      <td>[-1,0]</td>\n",
       "    </tr>\n",
       "    <tr>\n",
       "      <th>65</th>\n",
       "      <td>KBA05_GBZ</td>\n",
       "      <td>microcell_rr3</td>\n",
       "      <td>ordinal</td>\n",
       "      <td>[-1,0]</td>\n",
       "    </tr>\n",
       "    <tr>\n",
       "      <th>66</th>\n",
       "      <td>BALLRAUM</td>\n",
       "      <td>postcode</td>\n",
       "      <td>ordinal</td>\n",
       "      <td>[-1]</td>\n",
       "    </tr>\n",
       "    <tr>\n",
       "      <th>67</th>\n",
       "      <td>EWDICHTE</td>\n",
       "      <td>postcode</td>\n",
       "      <td>ordinal</td>\n",
       "      <td>[-1]</td>\n",
       "    </tr>\n",
       "    <tr>\n",
       "      <th>68</th>\n",
       "      <td>INNENSTADT</td>\n",
       "      <td>postcode</td>\n",
       "      <td>ordinal</td>\n",
       "      <td>[-1]</td>\n",
       "    </tr>\n",
       "    <tr>\n",
       "      <th>69</th>\n",
       "      <td>GEBAEUDETYP_RASTER</td>\n",
       "      <td>region_rr1</td>\n",
       "      <td>ordinal</td>\n",
       "      <td>[]</td>\n",
       "    </tr>\n",
       "    <tr>\n",
       "      <th>70</th>\n",
       "      <td>KKK</td>\n",
       "      <td>region_rr1</td>\n",
       "      <td>ordinal</td>\n",
       "      <td>[-1,0]</td>\n",
       "    </tr>\n",
       "    <tr>\n",
       "      <th>71</th>\n",
       "      <td>MOBI_REGIO</td>\n",
       "      <td>region_rr1</td>\n",
       "      <td>ordinal</td>\n",
       "      <td>[]</td>\n",
       "    </tr>\n",
       "    <tr>\n",
       "      <th>72</th>\n",
       "      <td>ONLINE_AFFINITAET</td>\n",
       "      <td>region_rr1</td>\n",
       "      <td>ordinal</td>\n",
       "      <td>[]</td>\n",
       "    </tr>\n",
       "    <tr>\n",
       "      <th>73</th>\n",
       "      <td>REGIOTYP</td>\n",
       "      <td>region_rr1</td>\n",
       "      <td>ordinal</td>\n",
       "      <td>[-1,0]</td>\n",
       "    </tr>\n",
       "    <tr>\n",
       "      <th>74</th>\n",
       "      <td>KBA13_ANZAHL_PKW</td>\n",
       "      <td>macrocell_plz8</td>\n",
       "      <td>numeric</td>\n",
       "      <td>[]</td>\n",
       "    </tr>\n",
       "    <tr>\n",
       "      <th>75</th>\n",
       "      <td>PLZ8_ANTG1</td>\n",
       "      <td>macrocell_plz8</td>\n",
       "      <td>ordinal</td>\n",
       "      <td>[-1]</td>\n",
       "    </tr>\n",
       "    <tr>\n",
       "      <th>76</th>\n",
       "      <td>PLZ8_ANTG2</td>\n",
       "      <td>macrocell_plz8</td>\n",
       "      <td>ordinal</td>\n",
       "      <td>[-1]</td>\n",
       "    </tr>\n",
       "    <tr>\n",
       "      <th>77</th>\n",
       "      <td>PLZ8_ANTG3</td>\n",
       "      <td>macrocell_plz8</td>\n",
       "      <td>ordinal</td>\n",
       "      <td>[-1]</td>\n",
       "    </tr>\n",
       "    <tr>\n",
       "      <th>78</th>\n",
       "      <td>PLZ8_ANTG4</td>\n",
       "      <td>macrocell_plz8</td>\n",
       "      <td>ordinal</td>\n",
       "      <td>[-1]</td>\n",
       "    </tr>\n",
       "    <tr>\n",
       "      <th>79</th>\n",
       "      <td>PLZ8_BAUMAX</td>\n",
       "      <td>macrocell_plz8</td>\n",
       "      <td>mixed</td>\n",
       "      <td>[-1,0]</td>\n",
       "    </tr>\n",
       "    <tr>\n",
       "      <th>80</th>\n",
       "      <td>PLZ8_HHZ</td>\n",
       "      <td>macrocell_plz8</td>\n",
       "      <td>ordinal</td>\n",
       "      <td>[-1]</td>\n",
       "    </tr>\n",
       "    <tr>\n",
       "      <th>81</th>\n",
       "      <td>PLZ8_GBZ</td>\n",
       "      <td>macrocell_plz8</td>\n",
       "      <td>ordinal</td>\n",
       "      <td>[-1]</td>\n",
       "    </tr>\n",
       "    <tr>\n",
       "      <th>82</th>\n",
       "      <td>ARBEIT</td>\n",
       "      <td>community</td>\n",
       "      <td>ordinal</td>\n",
       "      <td>[-1,9]</td>\n",
       "    </tr>\n",
       "    <tr>\n",
       "      <th>83</th>\n",
       "      <td>ORTSGR_KLS9</td>\n",
       "      <td>community</td>\n",
       "      <td>ordinal</td>\n",
       "      <td>[-1,0]</td>\n",
       "    </tr>\n",
       "    <tr>\n",
       "      <th>84</th>\n",
       "      <td>RELAT_AB</td>\n",
       "      <td>community</td>\n",
       "      <td>ordinal</td>\n",
       "      <td>[-1,9]</td>\n",
       "    </tr>\n",
       "  </tbody>\n",
       "</table>\n",
       "<p>85 rows × 4 columns</p>\n",
       "</div>"
      ],
      "text/plain": [
       "                attribute information_level         type missing_or_unknown\n",
       "0                AGER_TYP            person  categorical             [-1,0]\n",
       "1    ALTERSKATEGORIE_GROB            person      ordinal           [-1,0,9]\n",
       "2               ANREDE_KZ            person  categorical             [-1,0]\n",
       "3           CJT_GESAMTTYP            person  categorical                [0]\n",
       "4       FINANZ_MINIMALIST            person      ordinal               [-1]\n",
       "5           FINANZ_SPARER            person      ordinal               [-1]\n",
       "6        FINANZ_VORSORGER            person      ordinal               [-1]\n",
       "7          FINANZ_ANLEGER            person      ordinal               [-1]\n",
       "8   FINANZ_UNAUFFAELLIGER            person      ordinal               [-1]\n",
       "9        FINANZ_HAUSBAUER            person      ordinal               [-1]\n",
       "10              FINANZTYP            person  categorical               [-1]\n",
       "11            GEBURTSJAHR            person      numeric                [0]\n",
       "12        GFK_URLAUBERTYP            person  categorical                 []\n",
       "13       GREEN_AVANTGARDE            person  categorical                 []\n",
       "14             HEALTH_TYP            person      ordinal             [-1,0]\n",
       "15    LP_LEBENSPHASE_FEIN            person        mixed                [0]\n",
       "16    LP_LEBENSPHASE_GROB            person        mixed                [0]\n",
       "17        LP_FAMILIE_FEIN            person  categorical                [0]\n",
       "18        LP_FAMILIE_GROB            person  categorical                [0]\n",
       "19         LP_STATUS_FEIN            person  categorical                [0]\n",
       "20         LP_STATUS_GROB            person  categorical                [0]\n",
       "21       NATIONALITAET_KZ            person  categorical             [-1,0]\n",
       "22  PRAEGENDE_JUGENDJAHRE            person        mixed             [-1,0]\n",
       "23         RETOURTYP_BK_S            person      ordinal                [0]\n",
       "24              SEMIO_SOZ            person      ordinal             [-1,9]\n",
       "25              SEMIO_FAM            person      ordinal             [-1,9]\n",
       "26              SEMIO_REL            person      ordinal             [-1,9]\n",
       "27              SEMIO_MAT            person      ordinal             [-1,9]\n",
       "28             SEMIO_VERT            person      ordinal             [-1,9]\n",
       "29             SEMIO_LUST            person      ordinal             [-1,9]\n",
       "..                    ...               ...          ...                ...\n",
       "55            OST_WEST_KZ          building  categorical               [-1]\n",
       "56               WOHNLAGE          building        mixed               [-1]\n",
       "57        CAMEO_DEUG_2015     microcell_rr4  categorical             [-1,X]\n",
       "58         CAMEO_DEU_2015     microcell_rr4  categorical               [XX]\n",
       "59        CAMEO_INTL_2015     microcell_rr4        mixed            [-1,XX]\n",
       "60            KBA05_ANTG1     microcell_rr3      ordinal               [-1]\n",
       "61            KBA05_ANTG2     microcell_rr3      ordinal               [-1]\n",
       "62            KBA05_ANTG3     microcell_rr3      ordinal               [-1]\n",
       "63            KBA05_ANTG4     microcell_rr3      ordinal               [-1]\n",
       "64           KBA05_BAUMAX     microcell_rr3        mixed             [-1,0]\n",
       "65              KBA05_GBZ     microcell_rr3      ordinal             [-1,0]\n",
       "66               BALLRAUM          postcode      ordinal               [-1]\n",
       "67               EWDICHTE          postcode      ordinal               [-1]\n",
       "68             INNENSTADT          postcode      ordinal               [-1]\n",
       "69     GEBAEUDETYP_RASTER        region_rr1      ordinal                 []\n",
       "70                    KKK        region_rr1      ordinal             [-1,0]\n",
       "71             MOBI_REGIO        region_rr1      ordinal                 []\n",
       "72      ONLINE_AFFINITAET        region_rr1      ordinal                 []\n",
       "73               REGIOTYP        region_rr1      ordinal             [-1,0]\n",
       "74       KBA13_ANZAHL_PKW    macrocell_plz8      numeric                 []\n",
       "75             PLZ8_ANTG1    macrocell_plz8      ordinal               [-1]\n",
       "76             PLZ8_ANTG2    macrocell_plz8      ordinal               [-1]\n",
       "77             PLZ8_ANTG3    macrocell_plz8      ordinal               [-1]\n",
       "78             PLZ8_ANTG4    macrocell_plz8      ordinal               [-1]\n",
       "79            PLZ8_BAUMAX    macrocell_plz8        mixed             [-1,0]\n",
       "80               PLZ8_HHZ    macrocell_plz8      ordinal               [-1]\n",
       "81               PLZ8_GBZ    macrocell_plz8      ordinal               [-1]\n",
       "82                 ARBEIT         community      ordinal             [-1,9]\n",
       "83            ORTSGR_KLS9         community      ordinal             [-1,0]\n",
       "84               RELAT_AB         community      ordinal             [-1,9]\n",
       "\n",
       "[85 rows x 4 columns]"
      ]
     },
     "execution_count": 3,
     "metadata": {},
     "output_type": "execute_result"
    }
   ],
   "source": [
    "# Check the structure of the feature summary file after it's loaded (e.g. print the number of\n",
    "# rows and columns, print the first few rows).\n",
    "print(feat_info.shape)\n",
    "feat_info"
   ]
  },
  {
   "cell_type": "code",
   "execution_count": 4,
   "metadata": {},
   "outputs": [
    {
     "name": "stdout",
     "output_type": "stream",
     "text": [
      "(891221, 85)\n"
     ]
    },
    {
     "data": {
      "text/html": [
       "<div>\n",
       "<style scoped>\n",
       "    .dataframe tbody tr th:only-of-type {\n",
       "        vertical-align: middle;\n",
       "    }\n",
       "\n",
       "    .dataframe tbody tr th {\n",
       "        vertical-align: top;\n",
       "    }\n",
       "\n",
       "    .dataframe thead th {\n",
       "        text-align: right;\n",
       "    }\n",
       "</style>\n",
       "<table border=\"1\" class=\"dataframe\">\n",
       "  <thead>\n",
       "    <tr style=\"text-align: right;\">\n",
       "      <th></th>\n",
       "      <th>AGER_TYP</th>\n",
       "      <th>ALTERSKATEGORIE_GROB</th>\n",
       "      <th>ANREDE_KZ</th>\n",
       "      <th>CJT_GESAMTTYP</th>\n",
       "      <th>FINANZ_MINIMALIST</th>\n",
       "      <th>FINANZ_SPARER</th>\n",
       "      <th>FINANZ_VORSORGER</th>\n",
       "      <th>FINANZ_ANLEGER</th>\n",
       "      <th>FINANZ_UNAUFFAELLIGER</th>\n",
       "      <th>FINANZ_HAUSBAUER</th>\n",
       "      <th>...</th>\n",
       "      <th>PLZ8_ANTG1</th>\n",
       "      <th>PLZ8_ANTG2</th>\n",
       "      <th>PLZ8_ANTG3</th>\n",
       "      <th>PLZ8_ANTG4</th>\n",
       "      <th>PLZ8_BAUMAX</th>\n",
       "      <th>PLZ8_HHZ</th>\n",
       "      <th>PLZ8_GBZ</th>\n",
       "      <th>ARBEIT</th>\n",
       "      <th>ORTSGR_KLS9</th>\n",
       "      <th>RELAT_AB</th>\n",
       "    </tr>\n",
       "  </thead>\n",
       "  <tbody>\n",
       "    <tr>\n",
       "      <th>0</th>\n",
       "      <td>-1</td>\n",
       "      <td>2</td>\n",
       "      <td>1</td>\n",
       "      <td>2.0</td>\n",
       "      <td>3</td>\n",
       "      <td>4</td>\n",
       "      <td>3</td>\n",
       "      <td>5</td>\n",
       "      <td>5</td>\n",
       "      <td>3</td>\n",
       "      <td>...</td>\n",
       "      <td>NaN</td>\n",
       "      <td>NaN</td>\n",
       "      <td>NaN</td>\n",
       "      <td>NaN</td>\n",
       "      <td>NaN</td>\n",
       "      <td>NaN</td>\n",
       "      <td>NaN</td>\n",
       "      <td>NaN</td>\n",
       "      <td>NaN</td>\n",
       "      <td>NaN</td>\n",
       "    </tr>\n",
       "    <tr>\n",
       "      <th>1</th>\n",
       "      <td>-1</td>\n",
       "      <td>1</td>\n",
       "      <td>2</td>\n",
       "      <td>5.0</td>\n",
       "      <td>1</td>\n",
       "      <td>5</td>\n",
       "      <td>2</td>\n",
       "      <td>5</td>\n",
       "      <td>4</td>\n",
       "      <td>5</td>\n",
       "      <td>...</td>\n",
       "      <td>2.0</td>\n",
       "      <td>3.0</td>\n",
       "      <td>2.0</td>\n",
       "      <td>1.0</td>\n",
       "      <td>1.0</td>\n",
       "      <td>5.0</td>\n",
       "      <td>4.0</td>\n",
       "      <td>3.0</td>\n",
       "      <td>5.0</td>\n",
       "      <td>4.0</td>\n",
       "    </tr>\n",
       "    <tr>\n",
       "      <th>2</th>\n",
       "      <td>-1</td>\n",
       "      <td>3</td>\n",
       "      <td>2</td>\n",
       "      <td>3.0</td>\n",
       "      <td>1</td>\n",
       "      <td>4</td>\n",
       "      <td>1</td>\n",
       "      <td>2</td>\n",
       "      <td>3</td>\n",
       "      <td>5</td>\n",
       "      <td>...</td>\n",
       "      <td>3.0</td>\n",
       "      <td>3.0</td>\n",
       "      <td>1.0</td>\n",
       "      <td>0.0</td>\n",
       "      <td>1.0</td>\n",
       "      <td>4.0</td>\n",
       "      <td>4.0</td>\n",
       "      <td>3.0</td>\n",
       "      <td>5.0</td>\n",
       "      <td>2.0</td>\n",
       "    </tr>\n",
       "    <tr>\n",
       "      <th>3</th>\n",
       "      <td>2</td>\n",
       "      <td>4</td>\n",
       "      <td>2</td>\n",
       "      <td>2.0</td>\n",
       "      <td>4</td>\n",
       "      <td>2</td>\n",
       "      <td>5</td>\n",
       "      <td>2</td>\n",
       "      <td>1</td>\n",
       "      <td>2</td>\n",
       "      <td>...</td>\n",
       "      <td>2.0</td>\n",
       "      <td>2.0</td>\n",
       "      <td>2.0</td>\n",
       "      <td>0.0</td>\n",
       "      <td>1.0</td>\n",
       "      <td>3.0</td>\n",
       "      <td>4.0</td>\n",
       "      <td>2.0</td>\n",
       "      <td>3.0</td>\n",
       "      <td>3.0</td>\n",
       "    </tr>\n",
       "    <tr>\n",
       "      <th>4</th>\n",
       "      <td>-1</td>\n",
       "      <td>3</td>\n",
       "      <td>1</td>\n",
       "      <td>5.0</td>\n",
       "      <td>4</td>\n",
       "      <td>3</td>\n",
       "      <td>4</td>\n",
       "      <td>1</td>\n",
       "      <td>3</td>\n",
       "      <td>2</td>\n",
       "      <td>...</td>\n",
       "      <td>2.0</td>\n",
       "      <td>4.0</td>\n",
       "      <td>2.0</td>\n",
       "      <td>1.0</td>\n",
       "      <td>2.0</td>\n",
       "      <td>3.0</td>\n",
       "      <td>3.0</td>\n",
       "      <td>4.0</td>\n",
       "      <td>6.0</td>\n",
       "      <td>5.0</td>\n",
       "    </tr>\n",
       "    <tr>\n",
       "      <th>5</th>\n",
       "      <td>3</td>\n",
       "      <td>1</td>\n",
       "      <td>2</td>\n",
       "      <td>2.0</td>\n",
       "      <td>3</td>\n",
       "      <td>1</td>\n",
       "      <td>5</td>\n",
       "      <td>2</td>\n",
       "      <td>2</td>\n",
       "      <td>5</td>\n",
       "      <td>...</td>\n",
       "      <td>2.0</td>\n",
       "      <td>3.0</td>\n",
       "      <td>1.0</td>\n",
       "      <td>1.0</td>\n",
       "      <td>1.0</td>\n",
       "      <td>5.0</td>\n",
       "      <td>5.0</td>\n",
       "      <td>2.0</td>\n",
       "      <td>3.0</td>\n",
       "      <td>3.0</td>\n",
       "    </tr>\n",
       "    <tr>\n",
       "      <th>6</th>\n",
       "      <td>-1</td>\n",
       "      <td>2</td>\n",
       "      <td>2</td>\n",
       "      <td>5.0</td>\n",
       "      <td>1</td>\n",
       "      <td>5</td>\n",
       "      <td>1</td>\n",
       "      <td>5</td>\n",
       "      <td>4</td>\n",
       "      <td>3</td>\n",
       "      <td>...</td>\n",
       "      <td>3.0</td>\n",
       "      <td>3.0</td>\n",
       "      <td>1.0</td>\n",
       "      <td>0.0</td>\n",
       "      <td>1.0</td>\n",
       "      <td>5.0</td>\n",
       "      <td>5.0</td>\n",
       "      <td>4.0</td>\n",
       "      <td>6.0</td>\n",
       "      <td>3.0</td>\n",
       "    </tr>\n",
       "    <tr>\n",
       "      <th>7</th>\n",
       "      <td>-1</td>\n",
       "      <td>1</td>\n",
       "      <td>1</td>\n",
       "      <td>3.0</td>\n",
       "      <td>3</td>\n",
       "      <td>3</td>\n",
       "      <td>4</td>\n",
       "      <td>1</td>\n",
       "      <td>3</td>\n",
       "      <td>2</td>\n",
       "      <td>...</td>\n",
       "      <td>3.0</td>\n",
       "      <td>3.0</td>\n",
       "      <td>1.0</td>\n",
       "      <td>0.0</td>\n",
       "      <td>1.0</td>\n",
       "      <td>4.0</td>\n",
       "      <td>4.0</td>\n",
       "      <td>2.0</td>\n",
       "      <td>5.0</td>\n",
       "      <td>2.0</td>\n",
       "    </tr>\n",
       "    <tr>\n",
       "      <th>8</th>\n",
       "      <td>-1</td>\n",
       "      <td>3</td>\n",
       "      <td>1</td>\n",
       "      <td>3.0</td>\n",
       "      <td>4</td>\n",
       "      <td>4</td>\n",
       "      <td>2</td>\n",
       "      <td>4</td>\n",
       "      <td>2</td>\n",
       "      <td>2</td>\n",
       "      <td>...</td>\n",
       "      <td>2.0</td>\n",
       "      <td>3.0</td>\n",
       "      <td>2.0</td>\n",
       "      <td>1.0</td>\n",
       "      <td>1.0</td>\n",
       "      <td>3.0</td>\n",
       "      <td>3.0</td>\n",
       "      <td>2.0</td>\n",
       "      <td>4.0</td>\n",
       "      <td>3.0</td>\n",
       "    </tr>\n",
       "    <tr>\n",
       "      <th>9</th>\n",
       "      <td>-1</td>\n",
       "      <td>3</td>\n",
       "      <td>2</td>\n",
       "      <td>4.0</td>\n",
       "      <td>2</td>\n",
       "      <td>4</td>\n",
       "      <td>2</td>\n",
       "      <td>3</td>\n",
       "      <td>5</td>\n",
       "      <td>4</td>\n",
       "      <td>...</td>\n",
       "      <td>2.0</td>\n",
       "      <td>3.0</td>\n",
       "      <td>2.0</td>\n",
       "      <td>1.0</td>\n",
       "      <td>1.0</td>\n",
       "      <td>3.0</td>\n",
       "      <td>3.0</td>\n",
       "      <td>2.0</td>\n",
       "      <td>3.0</td>\n",
       "      <td>1.0</td>\n",
       "    </tr>\n",
       "  </tbody>\n",
       "</table>\n",
       "<p>10 rows × 85 columns</p>\n",
       "</div>"
      ],
      "text/plain": [
       "   AGER_TYP  ALTERSKATEGORIE_GROB  ANREDE_KZ  CJT_GESAMTTYP  \\\n",
       "0        -1                     2          1            2.0   \n",
       "1        -1                     1          2            5.0   \n",
       "2        -1                     3          2            3.0   \n",
       "3         2                     4          2            2.0   \n",
       "4        -1                     3          1            5.0   \n",
       "5         3                     1          2            2.0   \n",
       "6        -1                     2          2            5.0   \n",
       "7        -1                     1          1            3.0   \n",
       "8        -1                     3          1            3.0   \n",
       "9        -1                     3          2            4.0   \n",
       "\n",
       "   FINANZ_MINIMALIST  FINANZ_SPARER  FINANZ_VORSORGER  FINANZ_ANLEGER  \\\n",
       "0                  3              4                 3               5   \n",
       "1                  1              5                 2               5   \n",
       "2                  1              4                 1               2   \n",
       "3                  4              2                 5               2   \n",
       "4                  4              3                 4               1   \n",
       "5                  3              1                 5               2   \n",
       "6                  1              5                 1               5   \n",
       "7                  3              3                 4               1   \n",
       "8                  4              4                 2               4   \n",
       "9                  2              4                 2               3   \n",
       "\n",
       "   FINANZ_UNAUFFAELLIGER  FINANZ_HAUSBAUER    ...     PLZ8_ANTG1  PLZ8_ANTG2  \\\n",
       "0                      5                 3    ...            NaN         NaN   \n",
       "1                      4                 5    ...            2.0         3.0   \n",
       "2                      3                 5    ...            3.0         3.0   \n",
       "3                      1                 2    ...            2.0         2.0   \n",
       "4                      3                 2    ...            2.0         4.0   \n",
       "5                      2                 5    ...            2.0         3.0   \n",
       "6                      4                 3    ...            3.0         3.0   \n",
       "7                      3                 2    ...            3.0         3.0   \n",
       "8                      2                 2    ...            2.0         3.0   \n",
       "9                      5                 4    ...            2.0         3.0   \n",
       "\n",
       "   PLZ8_ANTG3  PLZ8_ANTG4  PLZ8_BAUMAX  PLZ8_HHZ  PLZ8_GBZ  ARBEIT  \\\n",
       "0         NaN         NaN          NaN       NaN       NaN     NaN   \n",
       "1         2.0         1.0          1.0       5.0       4.0     3.0   \n",
       "2         1.0         0.0          1.0       4.0       4.0     3.0   \n",
       "3         2.0         0.0          1.0       3.0       4.0     2.0   \n",
       "4         2.0         1.0          2.0       3.0       3.0     4.0   \n",
       "5         1.0         1.0          1.0       5.0       5.0     2.0   \n",
       "6         1.0         0.0          1.0       5.0       5.0     4.0   \n",
       "7         1.0         0.0          1.0       4.0       4.0     2.0   \n",
       "8         2.0         1.0          1.0       3.0       3.0     2.0   \n",
       "9         2.0         1.0          1.0       3.0       3.0     2.0   \n",
       "\n",
       "   ORTSGR_KLS9  RELAT_AB  \n",
       "0          NaN       NaN  \n",
       "1          5.0       4.0  \n",
       "2          5.0       2.0  \n",
       "3          3.0       3.0  \n",
       "4          6.0       5.0  \n",
       "5          3.0       3.0  \n",
       "6          6.0       3.0  \n",
       "7          5.0       2.0  \n",
       "8          4.0       3.0  \n",
       "9          3.0       1.0  \n",
       "\n",
       "[10 rows x 85 columns]"
      ]
     },
     "execution_count": 4,
     "metadata": {},
     "output_type": "execute_result"
    }
   ],
   "source": [
    "# Check the structure of the general demographics data after it's loaded (e.g. print the number of\n",
    "# rows and columns, print the first few rows).\n",
    "print(azdias.shape)\n",
    "azdias.head(10)\n",
    "\n"
   ]
  },
  {
   "cell_type": "markdown",
   "metadata": {},
   "source": [
    "> **Tip**: Add additional cells to keep everything in reasonably-sized chunks! Keyboard shortcut `esc --> a` (press escape to enter command mode, then press the 'A' key) adds a new cell before the active cell, and `esc --> b` adds a new cell after the active cell. If you need to convert an active cell to a markdown cell, use `esc --> m` and to convert to a code cell, use `esc --> y`. \n",
    "\n",
    "## Step 1: Preprocessing\n",
    "\n",
    "### Step 1.1: Assess Missing Data\n",
    "\n",
    "The feature summary file contains a summary of properties for each demographics data column. You will use this file to help you make cleaning decisions during this stage of the project. First of all, you should assess the demographics data in terms of missing data. Pay attention to the following points as you perform your analysis, and take notes on what you observe. Make sure that you fill in the **Discussion** cell with your findings and decisions at the end of each step that has one!\n",
    "\n",
    "#### Step 1.1.1: Convert Missing Value Codes to NaNs\n",
    "The fourth column of the feature attributes summary (loaded in above as `feat_info`) documents the codes from the data dictionary that indicate missing or unknown data. While the file encodes this as a list (e.g. `[-1,0]`), this will get read in as a string object. You'll need to do a little bit of parsing to make use of it to identify and clean the data. Convert data that matches a 'missing' or 'unknown' value code into a numpy NaN value. You might want to see how much data takes on a 'missing' or 'unknown' code, and how much data is naturally missing, as a point of interest.\n",
    "\n",
    "**As one more reminder, you are encouraged to add additional cells to break up your analysis into manageable chunks.**"
   ]
  },
  {
   "cell_type": "code",
   "execution_count": 5,
   "metadata": {},
   "outputs": [],
   "source": [
    "# Create a copy of demographic data to have both the original and the modified version\n",
    "azdias_og = azdias.copy()"
   ]
  },
  {
   "cell_type": "code",
   "execution_count": 6,
   "metadata": {},
   "outputs": [
    {
     "data": {
      "text/plain": [
       "4896838"
      ]
     },
     "execution_count": 6,
     "metadata": {},
     "output_type": "execute_result"
    }
   ],
   "source": [
    "#see how much data is missing naturally\n",
    "missing_before = azdias.isnull().sum().sum()\n",
    "missing_before"
   ]
  },
  {
   "cell_type": "code",
   "execution_count": 7,
   "metadata": {},
   "outputs": [],
   "source": [
    "# Identify missing or unknown data values and convert them to NaNs.\n",
    "#function that changes missing values to NaN\n",
    "def makeNaN(azdias, feat_info):\n",
    "    for i in range(feat_info.shape[0]):\n",
    "        if feat_info['missing_or_unknown'][i] != '[]':\n",
    "            \n",
    "            #creating a list of values that indicate missing values, for a particular attribute\n",
    "            var = feat_info['missing_or_unknown'][i].lstrip('[').rstrip(']')\n",
    "            missing = var.split(',')\n",
    "            \n",
    "            #iterating through list to ensure integer values are type int and not str\n",
    "            for count, value in enumerate(missing):\n",
    "                try:\n",
    "                    missing[count] = int(value)\n",
    "                except:\n",
    "                    True\n",
    "            #replacing all missing values with NaN, for a particular attribute at a time           \n",
    "            azdias[(feat_info['attribute'][i])].replace(missing, np.nan, inplace = True)\n",
    "                \n",
    "    return azdias\n",
    "\n",
    "azdias = makeNaN(azdias, feat_info)"
   ]
  },
  {
   "cell_type": "code",
   "execution_count": 8,
   "metadata": {},
   "outputs": [
    {
     "data": {
      "text/plain": [
       "8373929"
      ]
     },
     "execution_count": 8,
     "metadata": {},
     "output_type": "execute_result"
    }
   ],
   "source": [
    "#Total missing data\n",
    "azdias.isnull().sum().sum()"
   ]
  },
  {
   "cell_type": "code",
   "execution_count": 52,
   "metadata": {},
   "outputs": [],
   "source": [
    "#save the new data set with NaN values\n",
    "azdias.to_csv('azdias_missing.csv')"
   ]
  },
  {
   "cell_type": "markdown",
   "metadata": {},
   "source": [
    "#### Step 1.1.2: Assess Missing Data in Each Column\n",
    "\n",
    "How much missing data is present in each column? There are a few columns that are outliers in terms of the proportion of values that are missing. You will want to use matplotlib's [`hist()`](https://matplotlib.org/api/_as_gen/matplotlib.pyplot.hist.html) function to visualize the distribution of missing value counts to find these columns. Identify and document these columns. While some of these columns might have justifications for keeping or re-encoding the data, for this project you should just remove them from the dataframe. (Feel free to make remarks about these outlier columns in the discussion, however!)\n",
    "\n",
    "For the remaining features, are there any patterns in which columns have, or share, missing data?"
   ]
  },
  {
   "cell_type": "code",
   "execution_count": 9,
   "metadata": {},
   "outputs": [
    {
     "data": {
      "image/png": "[encoded data removed]",
      "text/plain": [
       "<matplotlib.figure.Figure at 0x7f71a4b467b8>"
      ]
     },
     "metadata": {
      "needs_background": "light"
     },
     "output_type": "display_data"
    }
   ],
   "source": [
    "# Perform an assessment of how much missing data there is in each column of the\n",
    "# dataset.\n",
    "def plot_missing(azdias):\n",
    "    missing_per_column = azdias.isnull().sum()\n",
    "    missing_percentage_per_column = missing_per_column/(azdias.shape[0])*100\n",
    "    plt.hist(missing_percentage_per_column.values, bins = 100)\n",
    "    plt.ylabel('Number of Columns')\n",
    "    plt.xlabel('Percentage of missing data')\n",
    "    plt.title('Percentage of missing data vs Number of Columns')\n",
    "    plt.show\n",
    "    \n",
    "    return missing_per_column, missing_percentage_per_column\n",
    "\n",
    "missing_per_column, missing_percentage_per_column = plot_missing(azdias)\n"
   ]
  },
  {
   "cell_type": "code",
   "execution_count": 10,
   "metadata": {},
   "outputs": [
    {
     "data": {
      "text/plain": [
       "Index(['AGER_TYP', 'GEBURTSJAHR', 'TITEL_KZ', 'ALTER_HH', 'KK_KUNDENTYP',\n",
       "       'KBA05_BAUMAX'],\n",
       "      dtype='object')"
      ]
     },
     "execution_count": 10,
     "metadata": {},
     "output_type": "execute_result"
    }
   ],
   "source": [
    "# Investigate patterns in the amount of missing data in each column. These columns have a high percentage of missing values\n",
    "outlier_columns = missing_percentage_per_column[missing_percentage_per_column.values > 20].index\n",
    "outlier_columns\n"
   ]
  },
  {
   "cell_type": "code",
   "execution_count": 11,
   "metadata": {},
   "outputs": [],
   "source": [
    "# Remove the outlier columns from the dataset. (You'll perform other data\n",
    "# engineering tasks such as re-encoding and imputation later.)\n",
    "def drop_outliers(azdias, outlier_columns):\n",
    "    azdias = azdias.drop(outlier_columns, axis = 1)\n",
    "    \n",
    "    return azdias\n",
    "\n",
    "azdias = drop_outliers(azdias, outlier_columns)\n",
    "\n"
   ]
  },
  {
   "cell_type": "code",
   "execution_count": 12,
   "metadata": {},
   "outputs": [
    {
     "data": {
      "text/plain": [
       "(891221, 79)"
      ]
     },
     "execution_count": 12,
     "metadata": {},
     "output_type": "execute_result"
    }
   ],
   "source": [
    "#confirming that columns are dropped\n",
    "azdias.shape"
   ]
  },
  {
   "cell_type": "markdown",
   "metadata": {},
   "source": [
    "#### Discussion 1.1.2: Assess Missing Data in Each Column\n",
    "\n",
    "A majority of columns have missing data less than around 20 %. There are 6 columns that have a higher percentage of missing data, namely 'AGER_TYP', 'GEBURTSJAHR', 'TITEL_KZ', 'ALTER_HH', 'KK_KUNDENTYP' and 'KBA05_BAUMAX'. These columns are presumed to be outliers and hence are removed from the dataset"
   ]
  },
  {
   "cell_type": "markdown",
   "metadata": {},
   "source": [
    "#### Step 1.1.3: Assess Missing Data in Each Row\n",
    "\n",
    "Now, you'll perform a similar assessment for the rows of the dataset. How much data is missing in each row? As with the columns, you should see some groups of points that have a very different numbers of missing values. Divide the data into two subsets: one for data points that are above some threshold for missing values, and a second subset for points below that threshold.\n",
    "\n",
    "In order to know what to do with the outlier rows, we should see if the distribution of data values on columns that are not missing data (or are missing very little data) are similar or different between the two groups. Select at least five of these columns and compare the distribution of values.\n",
    "- You can use seaborn's [`countplot()`](https://seaborn.pydata.org/generated/seaborn.countplot.html) function to create a bar chart of code frequencies and matplotlib's [`subplot()`](https://matplotlib.org/api/_as_gen/matplotlib.pyplot.subplot.html) function to put bar charts for the two subplots side by side.\n",
    "- To reduce repeated code, you might want to write a function that can perform this comparison, taking as one of its arguments a column to be compared.\n",
    "\n",
    "Depending on what you observe in your comparison, this will have implications on how you approach your conclusions later in the analysis. If the distributions of non-missing features look similar between the data with many missing values and the data with few or no missing values, then we could argue that simply dropping those points from the analysis won't present a major issue. On the other hand, if the data with many missing values looks very different from the data with few or no missing values, then we should make a note on those data as special. We'll revisit these data later on. **Either way, you should continue your analysis for now using just the subset of the data with few or no missing values.**"
   ]
  },
  {
   "cell_type": "code",
   "execution_count": 13,
   "metadata": {},
   "outputs": [
    {
     "data": {
      "image/png": "[encoded data removed]",
      "text/plain": [
       "<matplotlib.figure.Figure at 0x7f71a4b321d0>"
      ]
     },
     "metadata": {
      "needs_background": "light"
     },
     "output_type": "display_data"
    }
   ],
   "source": [
    "# How much data is missing in each row of the dataset?\n",
    "\n",
    "def plot_missing_data_row(azdias):\n",
    "    missing_per_row = azdias.isnull().sum(axis = 1)\n",
    "    missing_percentage_per_row = missing_per_row/(azdias.shape[1])*100\n",
    "    plt.hist(missing_per_row.values, bins = 100)\n",
    "    plt.ylabel('Number of Rows')\n",
    "    plt.xlabel('Amount of missing data')\n",
    "    plt.title('Amount of missing data vs Number of Rows')\n",
    "    plt.show\n",
    "    \n",
    "    return missing_per_row, missing_percentage_per_row\n",
    "\n",
    "missing_per_row, missing_percentage_per_row = plot_missing_data_row(azdias)\n"
   ]
  },
  {
   "cell_type": "code",
   "execution_count": 14,
   "metadata": {},
   "outputs": [],
   "source": [
    "# Write code to divide the data into two subsets based on the number of missing\n",
    "# values in each row.\n",
    "low_missing = missing_per_row[missing_per_row.values <=30].index\n",
    "high_missing = missing_per_row[missing_per_row.values > 30].index\n"
   ]
  },
  {
   "cell_type": "code",
   "execution_count": 15,
   "metadata": {},
   "outputs": [
    {
     "name": "stdout",
     "output_type": "stream",
     "text": [
      "(798067, 79)\n",
      "(93154, 79)\n"
     ]
    }
   ],
   "source": [
    "#divides data into two subsets based on missing values in each row\n",
    "def split_dataset(low_missing, high_missing, azdias):\n",
    "    azdias_low_missing = azdias.iloc[list(low_missing)]\n",
    "    azdias_high_missing = azdias.iloc[list(high_missing)]\n",
    "    \n",
    "    return azdias_low_missing, azdias_high_missing\n",
    "\n",
    "azdias_low_missing, azdias_high_missing = split_dataset(low_missing, high_missing, azdias)\n",
    "print(azdias_low_missing.shape)\n",
    "print(azdias_high_missing.shape)"
   ]
  },
  {
   "cell_type": "code",
   "execution_count": 16,
   "metadata": {},
   "outputs": [],
   "source": [
    "# Compare the distribution of values for at least five columns where there are\n",
    "# no or few missing values, between the two subsets.\n",
    "# function plots data distribution for a given column in the two different datasets\n",
    "def compare_distribution(azdias_low_missing, azdias_high_missing, column):\n",
    "    figure, axs = plt.subplots( ncols = 2)\n",
    "    sns.countplot(x = column[0], data = azdias_low_missing, ax = axs[0])\n",
    "    axs[0].set_title('low missing value dataset')\n",
    "    sns.countplot(x = column[0], data = azdias_high_missing, ax = axs[1])\n",
    "    axs[1].set_title('high missing value dataset')\n",
    "    \n",
    "\n",
    "    \n",
    "    \n",
    "\n"
   ]
  },
  {
   "cell_type": "code",
   "execution_count": 17,
   "metadata": {},
   "outputs": [
    {
     "name": "stdout",
     "output_type": "stream",
     "text": [
      "[['ZABEOTYP']\n",
      " ['RETOURTYP_BK_S']\n",
      " ['FINANZ_VORSORGER']\n",
      " ['FINANZ_VORSORGER']\n",
      " ['FINANZ_SPARER']]\n"
     ]
    },
    {
     "data": {
      "image/png": "[encoded data removed]",
      "text/plain": [
       "<matplotlib.figure.Figure at 0x7f71a4b32828>"
      ]
     },
     "metadata": {
      "needs_background": "light"
     },
     "output_type": "display_data"
    }
   ],
   "source": [
    "#choosing columns to compare between the two datasets\n",
    "choose_columns_1, choose_columns_1_percent = plot_missing(azdias_low_missing)\n",
    "choose_columns_2, choose_columns_2_percent = plot_missing(azdias_high_missing)\n",
    "\n",
    "columns_1 = choose_columns_1_percent[choose_columns_1_percent.values < 5].index\n",
    "columns_2 = choose_columns_2_percent[choose_columns_2_percent.values < 5].index\n",
    "\n",
    "columns_in_both = []\n",
    "for column in columns_1:\n",
    "    if column in columns_2:\n",
    "        columns_in_both.append(column)\n",
    "\n",
    "        \n",
    "\n",
    "columns_df = pd.DataFrame(columns_in_both)\n",
    "columns_final = columns_df.iloc[np.random.randint(0, len(columns_in_both), size = 5)].values\n",
    "\n",
    "\n",
    "print(columns_final)\n",
    "\n"
   ]
  },
  {
   "cell_type": "code",
   "execution_count": 18,
   "metadata": {},
   "outputs": [
    {
     "data": {
      "image/png": "[encoded data removed]",
      "text/plain": [
       "<matplotlib.figure.Figure at 0x7f71816e9ef0>"
      ]
     },
     "metadata": {
      "needs_background": "light"
     },
     "output_type": "display_data"
    },
    {
     "data": {
      "image/png": "[encoded data removed]",
      "text/plain": [
       "<matplotlib.figure.Figure at 0x7f718178df60>"
      ]
     },
     "metadata": {
      "needs_background": "light"
     },
     "output_type": "display_data"
    },
    {
     "data": {
      "image/png": "[encoded data removed]",
      "text/plain": [
       "<matplotlib.figure.Figure at 0x7f718175e588>"
      ]
     },
     "metadata": {
      "needs_background": "light"
     },
     "output_type": "display_data"
    },
    {
     "data": {
      "image/png": "[encoded data removed]",
      "text/plain": [
       "<matplotlib.figure.Figure at 0x7f7181609630>"
      ]
     },
     "metadata": {
      "needs_background": "light"
     },
     "output_type": "display_data"
    },
    {
     "data": {
      "image/png": "[encoded data removed]",
      "text/plain": [
       "<matplotlib.figure.Figure at 0x7f71815dc160>"
      ]
     },
     "metadata": {
      "needs_background": "light"
     },
     "output_type": "display_data"
    }
   ],
   "source": [
    "#plot columns for the two datasets\n",
    "for column in columns_final: \n",
    "    compare_distribution(azdias_low_missing, azdias_high_missing, column)\n",
    "    "
   ]
  },
  {
   "cell_type": "markdown",
   "metadata": {},
   "source": [
    "#### Discussion 1.1.3: Assess Missing Data in Each Row\n",
    "\n",
    "(Double-click this cell and replace this text with your own text, reporting your observations regarding missing data in rows. Are the data with lots of missing values are qualitatively different from data with few or no missing values?)\n",
    "\n",
    "From the graphs above it is evident that the distribution of data in columns of the rows with low amount of missing values is conisderably different than that of rows with high missing values. Hence simply ignoring one half of the data will alter our conclusions. Under ideal circumstances it will be imperative to keep both the datasets."
   ]
  },
  {
   "cell_type": "markdown",
   "metadata": {},
   "source": [
    "### Step 1.2: Select and Re-Encode Features\n",
    "\n",
    "Checking for missing data isn't the only way in which you can prepare a dataset for analysis. Since the unsupervised learning techniques to be used will only work on data that is encoded numerically, you need to make a few encoding changes or additional assumptions to be able to make progress. In addition, while almost all of the values in the dataset are encoded using numbers, not all of them represent numeric values. Check the third column of the feature summary (`feat_info`) for a summary of types of measurement.\n",
    "- For numeric and interval data, these features can be kept without changes.\n",
    "- Most of the variables in the dataset are ordinal in nature. While ordinal values may technically be non-linear in spacing, make the simplifying assumption that the ordinal variables can be treated as being interval in nature (that is, kept without any changes).\n",
    "- Special handling may be necessary for the remaining two variable types: categorical, and 'mixed'.\n",
    "\n",
    "In the first two parts of this sub-step, you will perform an investigation of the categorical and mixed-type features and make a decision on each of them, whether you will keep, drop, or re-encode each. Then, in the last part, you will create a new data frame with only the selected and engineered columns.\n",
    "\n",
    "Data wrangling is often the trickiest part of the data analysis process, and there's a lot of it to be done here. But stick with it: once you're done with this step, you'll be ready to get to the machine learning parts of the project!"
   ]
  },
  {
   "cell_type": "code",
   "execution_count": 19,
   "metadata": {},
   "outputs": [
    {
     "name": "stdout",
     "output_type": "stream",
     "text": [
      "Number of ordinal features is 49\n",
      "Number of categorical features is 21\n",
      "Number of numeric features is 7\n",
      "Number of mixed features is 7\n",
      "Number of interval features is 1\n"
     ]
    }
   ],
   "source": [
    "# How many features are there of each data type?\n",
    "def num_features(feat_info):\n",
    "    num_vals = feat_info['type'].value_counts()\n",
    "    \n",
    "    for index, value in num_vals.items():\n",
    "        print('Number of {} features is {}'.format(index, value))\n",
    "    \n",
    "\n",
    "num_features(feat_info)\n",
    "        \n",
    "\n"
   ]
  },
  {
   "cell_type": "markdown",
   "metadata": {},
   "source": [
    "#### Step 1.2.1: Re-Encode Categorical Features\n",
    "\n",
    "For categorical data, you would ordinarily need to encode the levels as dummy variables. Depending on the number of categories, perform one of the following:\n",
    "- For binary (two-level) categoricals that take numeric values, you can keep them without needing to do anything.\n",
    "- There is one binary variable that takes on non-numeric values. For this one, you need to re-encode the values as numbers or create a dummy variable.\n",
    "- For multi-level categoricals (three or more values), you can choose to encode the values using multiple dummy variables (e.g. via [OneHotEncoder](http://scikit-learn.org/stable/modules/generated/sklearn.preprocessing.OneHotEncoder.html)), or (to keep things straightforward) just drop them from the analysis. As always, document your choices in the Discussion section."
   ]
  },
  {
   "cell_type": "code",
   "execution_count": 20,
   "metadata": {},
   "outputs": [
    {
     "data": {
      "text/html": [
       "<div>\n",
       "<style scoped>\n",
       "    .dataframe tbody tr th:only-of-type {\n",
       "        vertical-align: middle;\n",
       "    }\n",
       "\n",
       "    .dataframe tbody tr th {\n",
       "        vertical-align: top;\n",
       "    }\n",
       "\n",
       "    .dataframe thead th {\n",
       "        text-align: right;\n",
       "    }\n",
       "</style>\n",
       "<table border=\"1\" class=\"dataframe\">\n",
       "  <thead>\n",
       "    <tr style=\"text-align: right;\">\n",
       "      <th></th>\n",
       "      <th>attribute</th>\n",
       "      <th>information_level</th>\n",
       "      <th>type</th>\n",
       "      <th>missing_or_unknown</th>\n",
       "    </tr>\n",
       "  </thead>\n",
       "  <tbody>\n",
       "    <tr>\n",
       "      <th>0</th>\n",
       "      <td>AGER_TYP</td>\n",
       "      <td>person</td>\n",
       "      <td>categorical</td>\n",
       "      <td>[-1,0]</td>\n",
       "    </tr>\n",
       "    <tr>\n",
       "      <th>1</th>\n",
       "      <td>ALTERSKATEGORIE_GROB</td>\n",
       "      <td>person</td>\n",
       "      <td>ordinal</td>\n",
       "      <td>[-1,0,9]</td>\n",
       "    </tr>\n",
       "    <tr>\n",
       "      <th>2</th>\n",
       "      <td>ANREDE_KZ</td>\n",
       "      <td>person</td>\n",
       "      <td>categorical</td>\n",
       "      <td>[-1,0]</td>\n",
       "    </tr>\n",
       "    <tr>\n",
       "      <th>3</th>\n",
       "      <td>CJT_GESAMTTYP</td>\n",
       "      <td>person</td>\n",
       "      <td>categorical</td>\n",
       "      <td>[0]</td>\n",
       "    </tr>\n",
       "    <tr>\n",
       "      <th>4</th>\n",
       "      <td>FINANZ_MINIMALIST</td>\n",
       "      <td>person</td>\n",
       "      <td>ordinal</td>\n",
       "      <td>[-1]</td>\n",
       "    </tr>\n",
       "    <tr>\n",
       "      <th>5</th>\n",
       "      <td>FINANZ_SPARER</td>\n",
       "      <td>person</td>\n",
       "      <td>ordinal</td>\n",
       "      <td>[-1]</td>\n",
       "    </tr>\n",
       "    <tr>\n",
       "      <th>6</th>\n",
       "      <td>FINANZ_VORSORGER</td>\n",
       "      <td>person</td>\n",
       "      <td>ordinal</td>\n",
       "      <td>[-1]</td>\n",
       "    </tr>\n",
       "    <tr>\n",
       "      <th>7</th>\n",
       "      <td>FINANZ_ANLEGER</td>\n",
       "      <td>person</td>\n",
       "      <td>ordinal</td>\n",
       "      <td>[-1]</td>\n",
       "    </tr>\n",
       "    <tr>\n",
       "      <th>8</th>\n",
       "      <td>FINANZ_UNAUFFAELLIGER</td>\n",
       "      <td>person</td>\n",
       "      <td>ordinal</td>\n",
       "      <td>[-1]</td>\n",
       "    </tr>\n",
       "    <tr>\n",
       "      <th>9</th>\n",
       "      <td>FINANZ_HAUSBAUER</td>\n",
       "      <td>person</td>\n",
       "      <td>ordinal</td>\n",
       "      <td>[-1]</td>\n",
       "    </tr>\n",
       "    <tr>\n",
       "      <th>10</th>\n",
       "      <td>FINANZTYP</td>\n",
       "      <td>person</td>\n",
       "      <td>categorical</td>\n",
       "      <td>[-1]</td>\n",
       "    </tr>\n",
       "    <tr>\n",
       "      <th>11</th>\n",
       "      <td>GEBURTSJAHR</td>\n",
       "      <td>person</td>\n",
       "      <td>numeric</td>\n",
       "      <td>[0]</td>\n",
       "    </tr>\n",
       "    <tr>\n",
       "      <th>12</th>\n",
       "      <td>GFK_URLAUBERTYP</td>\n",
       "      <td>person</td>\n",
       "      <td>categorical</td>\n",
       "      <td>[]</td>\n",
       "    </tr>\n",
       "    <tr>\n",
       "      <th>13</th>\n",
       "      <td>GREEN_AVANTGARDE</td>\n",
       "      <td>person</td>\n",
       "      <td>categorical</td>\n",
       "      <td>[]</td>\n",
       "    </tr>\n",
       "    <tr>\n",
       "      <th>14</th>\n",
       "      <td>HEALTH_TYP</td>\n",
       "      <td>person</td>\n",
       "      <td>ordinal</td>\n",
       "      <td>[-1,0]</td>\n",
       "    </tr>\n",
       "  </tbody>\n",
       "</table>\n",
       "</div>"
      ],
      "text/plain": [
       "                attribute information_level         type missing_or_unknown\n",
       "0                AGER_TYP            person  categorical             [-1,0]\n",
       "1    ALTERSKATEGORIE_GROB            person      ordinal           [-1,0,9]\n",
       "2               ANREDE_KZ            person  categorical             [-1,0]\n",
       "3           CJT_GESAMTTYP            person  categorical                [0]\n",
       "4       FINANZ_MINIMALIST            person      ordinal               [-1]\n",
       "5           FINANZ_SPARER            person      ordinal               [-1]\n",
       "6        FINANZ_VORSORGER            person      ordinal               [-1]\n",
       "7          FINANZ_ANLEGER            person      ordinal               [-1]\n",
       "8   FINANZ_UNAUFFAELLIGER            person      ordinal               [-1]\n",
       "9        FINANZ_HAUSBAUER            person      ordinal               [-1]\n",
       "10              FINANZTYP            person  categorical               [-1]\n",
       "11            GEBURTSJAHR            person      numeric                [0]\n",
       "12        GFK_URLAUBERTYP            person  categorical                 []\n",
       "13       GREEN_AVANTGARDE            person  categorical                 []\n",
       "14             HEALTH_TYP            person      ordinal             [-1,0]"
      ]
     },
     "execution_count": 20,
     "metadata": {},
     "output_type": "execute_result"
    }
   ],
   "source": [
    "feat_info.head(15)"
   ]
  },
  {
   "cell_type": "code",
   "execution_count": 21,
   "metadata": {},
   "outputs": [
    {
     "name": "stdout",
     "output_type": "stream",
     "text": [
      "['ANREDE_KZ', 'GREEN_AVANTGARDE', 'SOHO_KZ', 'VERS_TYP', 'OST_WEST_KZ']\n",
      "['CJT_GESAMTTYP', 'FINANZTYP', 'GFK_URLAUBERTYP', 'LP_FAMILIE_FEIN', 'LP_FAMILIE_GROB', 'LP_STATUS_FEIN', 'LP_STATUS_GROB', 'NATIONALITAET_KZ', 'SHOPPER_TYP', 'ZABEOTYP', 'GEBAEUDETYP', 'CAMEO_DEUG_2015', 'CAMEO_DEU_2015']\n"
     ]
    }
   ],
   "source": [
    "# Assess categorical variables: which are binary, which are multi-level, and\n",
    "# which one needs to be re-encoded?\n",
    "def categorical(azdias_low_missing, feat_info):\n",
    "    categorical_vars = feat_info.copy()\n",
    "    \n",
    "    #creating df only categorical variables\n",
    "    for index, values in feat_info['type'].items():\n",
    "        if values != 'categorical':\n",
    "            categorical_vars.drop(index, axis = 0, inplace = True)\n",
    "    \n",
    "    #separating variables into binary and multi-level \n",
    "    binary_feat = []\n",
    "    multi_feat = []\n",
    "    \n",
    "    for i in range(categorical_vars.shape[0]):\n",
    "        try:\n",
    "            if len(azdias_low_missing[categorical_vars.iloc[i]['attribute']].unique()) == 2 or (len(azdias_low_missing[categorical_vars.iloc[i]['attribute']].unique()) == 3 and \n",
    "             np.isnan(np.sum(azdias_low_missing[categorical_vars.iloc[i]['attribute']].unique()))):\n",
    "                binary_feat.append(categorical_vars.iloc[i]['attribute'])\n",
    "        \n",
    "            else:\n",
    "                multi_feat.append(categorical_vars.iloc[i]['attribute'])\n",
    "        \n",
    "        except:\n",
    "            continue\n",
    "    \n",
    "    print(binary_feat)\n",
    "    print(multi_feat)\n",
    "    return binary_feat, multi_feat\n",
    "    \n",
    "        \n",
    "binary_feat, multi_feat = categorical(azdias_low_missing, feat_info)\n"
   ]
  },
  {
   "cell_type": "code",
   "execution_count": 22,
   "metadata": {},
   "outputs": [
    {
     "name": "stdout",
     "output_type": "stream",
     "text": [
      "[2 1] ANREDE_KZ\n",
      "[0 1] GREEN_AVANTGARDE\n",
      "[ 1.  0.] SOHO_KZ\n",
      "[  2.   1.  nan] VERS_TYP\n",
      "['W' 'O'] OST_WEST_KZ\n",
      "0    629525\n",
      "1    168542\n",
      "Name: OST_WEST_KZ, dtype: int64\n"
     ]
    },
    {
     "name": "stderr",
     "output_type": "stream",
     "text": [
      "/opt/conda/lib/python3.6/site-packages/ipykernel_launcher.py:7: SettingWithCopyWarning: \n",
      "A value is trying to be set on a copy of a slice from a DataFrame.\n",
      "Try using .loc[row_indexer,col_indexer] = value instead\n",
      "\n",
      "See the caveats in the documentation: http://pandas.pydata.org/pandas-docs/stable/indexing.html#indexing-view-versus-copy\n",
      "  import sys\n"
     ]
    }
   ],
   "source": [
    "#figure out which binary variable needs to be remapped\n",
    "def remap_binary(azdias_low_missing, binary_feat):\n",
    "    for i in binary_feat:\n",
    "        print(azdias_low_missing[i].unique(), i)\n",
    "    \n",
    "    #remapping\n",
    "    try:\n",
    "    azdias_low_missing['OST_WEST_KZ'] = azdias_low_missing['OST_WEST_KZ'].map({'W': 0, 'O': 1})\n",
    "    print(azdias_low_missing['OST_WEST_KZ'].value_counts())\n",
    "remap_binary(azdias_low_missing, binary_feat)"
   ]
  },
  {
   "cell_type": "code",
   "execution_count": 23,
   "metadata": {},
   "outputs": [
    {
     "name": "stderr",
     "output_type": "stream",
     "text": [
      "/opt/conda/lib/python3.6/site-packages/pandas/core/frame.py:3697: SettingWithCopyWarning: \n",
      "A value is trying to be set on a copy of a slice from a DataFrame\n",
      "\n",
      "See the caveats in the documentation: http://pandas.pydata.org/pandas-docs/stable/indexing.html#indexing-view-versus-copy\n",
      "  errors=errors)\n"
     ]
    }
   ],
   "source": [
    "# Re-encode categorical variable(s) to be kept in the analysis.\n",
    "#Drop Variables that have more than 2 features\n",
    "\n",
    "def drop_multi(azdias_low_missing, multi_feat):\n",
    "    for feature in multi_feat:\n",
    "        try:\n",
    "            azdias_low_missing.drop(feature, axis = 1, inplace = True)\n",
    "        except:\n",
    "            continue\n",
    "    \n",
    "    return azdias_low_missing\n",
    "\n",
    "\n",
    "azdias_low_missing = drop_multi(azdias_low_missing, multi_feat)"
   ]
  },
  {
   "cell_type": "code",
   "execution_count": 24,
   "metadata": {},
   "outputs": [
    {
     "data": {
      "text/plain": [
       "(798067, 66)"
      ]
     },
     "execution_count": 24,
     "metadata": {},
     "output_type": "execute_result"
    }
   ],
   "source": [
    "azdias_low_missing.shape"
   ]
  },
  {
   "cell_type": "markdown",
   "metadata": {},
   "source": [
    "#### Discussion 1.2.1: Re-Encode Categorical Features\n",
    "\n",
    "\n",
    "\n",
    "On initial analysis there were 21 categorical variables found. 5 of them were found to have binary data distribution, namely ['ANREDE_KZ', 'GREEN_AVANTGARDE', 'SOHO_KZ', 'VERS_TYP', 'OST_WEST_KZ']. 13 for found to me multi level features, namely ['CJT_GESAMTTYP', 'FINANZTYP', 'GFK_URLAUBERTYP', 'LP_FAMILIE_FEIN', 'LP_FAMILIE_GROB', 'LP_STATUS_FEIN', 'LP_STATUS_GROB', 'NATIONALITAET_KZ', 'SHOPPER_TYP', 'ZABEOTYP', 'GEBAEUDETYP', 'CAMEO_DEUG_2015', 'CAMEO_DEU_2015']. ['OST_WEST_KZ'] was found to be the binary feature that was not numerically encoded. This feature was then encoded to numerical values. The binary features, along with the newly mapped ['OST_WEST_KZ'] feature were kept in the dataset, while the multi level features for removed."
   ]
  },
  {
   "cell_type": "markdown",
   "metadata": {},
   "source": [
    "#### Step 1.2.2: Engineer Mixed-Type Features\n",
    "\n",
    "There are a handful of features that are marked as \"mixed\" in the feature summary that require special treatment in order to be included in the analysis. There are two in particular that deserve attention; the handling of the rest are up to your own choices:\n",
    "- \"PRAEGENDE_JUGENDJAHRE\" combines information on three dimensions: generation by decade, movement (mainstream vs. avantgarde), and nation (east vs. west). While there aren't enough levels to disentangle east from west, you should create two new variables to capture the other two dimensions: an interval-type variable for decade, and a binary variable for movement.\n",
    "- \"CAMEO_INTL_2015\" combines information on two axes: wealth and life stage. Break up the two-digit codes by their 'tens'-place and 'ones'-place digits into two new ordinal variables (which, for the purposes of this project, is equivalent to just treating them as their raw numeric values).\n",
    "- If you decide to keep or engineer new features around the other mixed-type features, make sure you note your steps in the Discussion section.\n",
    "\n",
    "Be sure to check `Data_Dictionary.md` for the details needed to finish these tasks."
   ]
  },
  {
   "cell_type": "code",
   "execution_count": 25,
   "metadata": {},
   "outputs": [
    {
     "name": "stderr",
     "output_type": "stream",
     "text": [
      "/opt/conda/lib/python3.6/site-packages/ipykernel_launcher.py:4: SettingWithCopyWarning: \n",
      "A value is trying to be set on a copy of a slice from a DataFrame.\n",
      "Try using .loc[row_indexer,col_indexer] = value instead\n",
      "\n",
      "See the caveats in the documentation: http://pandas.pydata.org/pandas-docs/stable/indexing.html#indexing-view-versus-copy\n",
      "  after removing the cwd from sys.path.\n"
     ]
    }
   ],
   "source": [
    "# Investigate \"PRAEGENDE_JUGENDJAHRE\" and engineer two new variables.\n",
    "#create variable for decade\n",
    "def make_dec_var(azdias_low_missing):\n",
    "    azdias_low_missing['PRAEGENDE_JUGENDJAHRE_DECADE'] = azdias_low_missing['PRAEGENDE_JUGENDJAHRE'].map({int('1'): 1, int('2'):1, int('3'): 2, int('4'): 2, int('5'): 3, int('6'): 3, int('7'): 3,int('8'): 4, int('9'): 4, int('10'): 5, int('11'): 5, int('12'): 5, int('13'): 5, int('14'): 6, int('15'): 6})\n",
    "    \n",
    "    return azdias_low_missing\n",
    "    \n",
    "    \n",
    "azdias_low_missing = make_dec_var(azdias_low_missing)       \n",
    "\n"
   ]
  },
  {
   "cell_type": "code",
   "execution_count": 26,
   "metadata": {},
   "outputs": [
    {
     "name": "stderr",
     "output_type": "stream",
     "text": [
      "/opt/conda/lib/python3.6/site-packages/ipykernel_launcher.py:3: SettingWithCopyWarning: \n",
      "A value is trying to be set on a copy of a slice from a DataFrame.\n",
      "Try using .loc[row_indexer,col_indexer] = value instead\n",
      "\n",
      "See the caveats in the documentation: http://pandas.pydata.org/pandas-docs/stable/indexing.html#indexing-view-versus-copy\n",
      "  This is separate from the ipykernel package so we can avoid doing imports until\n"
     ]
    }
   ],
   "source": [
    "#create variable for movement: avantgarde: 0, mainstream: 1\n",
    "def make_mov_var(azdias_low_missing):\n",
    "    azdias_low_missing['PRAEGENDE_JUGENDJAHRE_MOVEMENT'] = azdias_low_missing['PRAEGENDE_JUGENDJAHRE'].map({int('1'): 1, int('2'):0, int('3'): 1, int('4'): 0, int('5'): 1, int('6'): 0, int('7'): 0,int('8'): 1, int('9'): 0, int('10'): 1, int('11'): 0, int('12'): 1, int('13'): 0, int('14'): 1, int('15'): 0})\n",
    "\n",
    "    return azdias_low_missing\n",
    "\n",
    "azdias_low_missing = make_mov_var(azdias_low_missing)"
   ]
  },
  {
   "cell_type": "code",
   "execution_count": 27,
   "metadata": {},
   "outputs": [
    {
     "name": "stderr",
     "output_type": "stream",
     "text": [
      "/opt/conda/lib/python3.6/site-packages/pandas/core/frame.py:3697: SettingWithCopyWarning: \n",
      "A value is trying to be set on a copy of a slice from a DataFrame\n",
      "\n",
      "See the caveats in the documentation: http://pandas.pydata.org/pandas-docs/stable/indexing.html#indexing-view-versus-copy\n",
      "  errors=errors)\n"
     ]
    }
   ],
   "source": [
    "#remove the PRAEGENDE_JUGENDJAHRE column\n",
    "azdias_low_missing.drop('PRAEGENDE_JUGENDJAHRE', axis = 1, inplace = True)\n"
   ]
  },
  {
   "cell_type": "code",
   "execution_count": 28,
   "metadata": {},
   "outputs": [
    {
     "name": "stderr",
     "output_type": "stream",
     "text": [
      "/opt/conda/lib/python3.6/site-packages/ipykernel_launcher.py:10: SettingWithCopyWarning: \n",
      "A value is trying to be set on a copy of a slice from a DataFrame.\n",
      "Try using .loc[row_indexer,col_indexer] = value instead\n",
      "\n",
      "See the caveats in the documentation: http://pandas.pydata.org/pandas-docs/stable/indexing.html#indexing-view-versus-copy\n",
      "  # Remove the CWD from sys.path while we load stuff.\n"
     ]
    }
   ],
   "source": [
    "# Investigate \"CAMEO_INTL_2015\" and engineer two new variables.\n",
    "#make wealth variable\n",
    "def make_wealth_var(azdias_low_missing):\n",
    "    azdias_low_missing['CAMEO_INTL_2015_WEALTH'] = azdias_low_missing['CAMEO_INTL_2015'].map({'11':1, '12':1, '13':1, '14':1,\n",
    "                                                                                                    '15':1, '21':2, '22':2, '23':2,\n",
    "                                                                                                    '24':2, '25':2, '31':3, '32':3,\n",
    "                                                                                                    '33':3, '34':3, '35':3, '41':4,\n",
    "                                                                                                    '42':4, '43':4, '44':4, '45':4,\n",
    "                                                                                                    '51':5, '52':5, '53':5, '54':5,\n",
    "                                                                                                    '55':5})\n",
    "\n",
    "    return azdias_low_missing\n",
    "\n",
    "azdias_low_missing = make_wealth_var(azdias_low_missing)\n"
   ]
  },
  {
   "cell_type": "code",
   "execution_count": 29,
   "metadata": {},
   "outputs": [
    {
     "name": "stderr",
     "output_type": "stream",
     "text": [
      "/opt/conda/lib/python3.6/site-packages/ipykernel_launcher.py:9: SettingWithCopyWarning: \n",
      "A value is trying to be set on a copy of a slice from a DataFrame.\n",
      "Try using .loc[row_indexer,col_indexer] = value instead\n",
      "\n",
      "See the caveats in the documentation: http://pandas.pydata.org/pandas-docs/stable/indexing.html#indexing-view-versus-copy\n",
      "  if __name__ == '__main__':\n"
     ]
    }
   ],
   "source": [
    "#make life stage variable\n",
    "def make_life_stage_var(azdias_low_missing):\n",
    "    azdias_low_missing['CAMEO_INTL_2015_LIFESTAGE'] = azdias_low_missing['CAMEO_INTL_2015'].map({'11':1, '12':2, '13':3, '14':4,\n",
    "                                                                                                    '15':5, '21':1, '22':2, '23':3,\n",
    "                                                                                                    '24':4, '25':5, '31':1, '32':2,\n",
    "                                                                                                    '33':3, '34':4, '35':5, '41':1,\n",
    "                                                                                                    '42':2, '43':3, '44':4, '45':5,\n",
    "                                                                                                    '51':1, '52':2, '53':3, '54':4,\n",
    "                                                                                                    '55':5})\n",
    "\n",
    "    return azdias_low_missing\n",
    "\n",
    "azdias_low_missing = make_life_stage_var(azdias_low_missing)"
   ]
  },
  {
   "cell_type": "code",
   "execution_count": 30,
   "metadata": {},
   "outputs": [
    {
     "name": "stderr",
     "output_type": "stream",
     "text": [
      "/opt/conda/lib/python3.6/site-packages/pandas/core/frame.py:3697: SettingWithCopyWarning: \n",
      "A value is trying to be set on a copy of a slice from a DataFrame\n",
      "\n",
      "See the caveats in the documentation: http://pandas.pydata.org/pandas-docs/stable/indexing.html#indexing-view-versus-copy\n",
      "  errors=errors)\n"
     ]
    }
   ],
   "source": [
    "#remove the CAMEO_INTL_2015 column\n",
    "azdias_low_missing.drop('CAMEO_INTL_2015', axis = 1, inplace = True)"
   ]
  },
  {
   "cell_type": "code",
   "execution_count": 31,
   "metadata": {},
   "outputs": [
    {
     "data": {
      "text/plain": [
       "(798067, 68)"
      ]
     },
     "execution_count": 31,
     "metadata": {},
     "output_type": "execute_result"
    }
   ],
   "source": [
    "azdias_low_missing.shape"
   ]
  },
  {
   "cell_type": "code",
   "execution_count": 32,
   "metadata": {},
   "outputs": [
    {
     "name": "stderr",
     "output_type": "stream",
     "text": [
      "/opt/conda/lib/python3.6/site-packages/pandas/core/frame.py:3697: SettingWithCopyWarning: \n",
      "A value is trying to be set on a copy of a slice from a DataFrame\n",
      "\n",
      "See the caveats in the documentation: http://pandas.pydata.org/pandas-docs/stable/indexing.html#indexing-view-versus-copy\n",
      "  errors=errors)\n"
     ]
    }
   ],
   "source": [
    "def drop_mix_col(azdias_low_missing, feat_info):\n",
    "    \n",
    "    mixed_columns = []\n",
    "    #creating list of other mixxed variables\n",
    "    for index, values in feat_info['type'].items():\n",
    "        if values == 'mixed' and feat_info.iloc[index]['attribute'] != 'PRAEGENDE_JUGENDJAHRE' and feat_info.iloc[index]['attribute'] != 'CAMEO_INTL_2015':\n",
    "            mixed_columns.append(feat_info.iloc[index]['attribute'])\n",
    "            \n",
    "    #drop other mixed variables\n",
    "    for column in mixed_columns:\n",
    "        try:\n",
    "            azdias_low_missing.drop(column, axis = 1, inplace = True)\n",
    "        except:\n",
    "            continue\n",
    "     \n",
    "    return azdias_low_missing\n",
    "    \n",
    "azdias_low_missing = drop_mix_col(azdias_low_missing, feat_info)"
   ]
  },
  {
   "cell_type": "code",
   "execution_count": 33,
   "metadata": {},
   "outputs": [
    {
     "data": {
      "text/plain": [
       "(798067, 64)"
      ]
     },
     "execution_count": 33,
     "metadata": {},
     "output_type": "execute_result"
    }
   ],
   "source": [
    "azdias_low_missing.shape"
   ]
  },
  {
   "cell_type": "markdown",
   "metadata": {},
   "source": [
    "#### Discussion 1.2.2: Engineer Mixed-Type Features\n",
    "\n",
    "\n",
    "Two new columns were formed to account for the decade as well as movement in PRAEGENDE_JUGENDJAHRE column. Values in the two new columns were mapped accordingly, based on instructions. The original PRAEGENDE_JUGENDJAHRE was then dropped from the dataset.\n",
    "\n",
    "Similarly two new columns were also formed to account for the wealth as well as life stage in the CAMEO_INTL_2015 variable. Values were mapped accordingly and the orginial CAMEO_INTL_2015 was dropped from the dataset.\n",
    "\n",
    "The remianining 'mixed' variable columns were also dropped from the dataset\n",
    "\n"
   ]
  },
  {
   "cell_type": "markdown",
   "metadata": {},
   "source": [
    "#### Step 1.2.3: Complete Feature Selection\n",
    "\n",
    "In order to finish this step up, you need to make sure that your data frame now only has the columns that you want to keep. To summarize, the dataframe should consist of the following:\n",
    "- All numeric, interval, and ordinal type columns from the original dataset.\n",
    "- Binary categorical features (all numerically-encoded).\n",
    "- Engineered features from other multi-level categorical features and mixed features.\n",
    "\n",
    "Make sure that for any new columns that you have engineered, that you've excluded the original columns from the final dataset. Otherwise, their values will interfere with the analysis later on the project. For example, you should not keep \"PRAEGENDE_JUGENDJAHRE\", since its values won't be useful for the algorithm: only the values derived from it in the engineered features you created should be retained. As a reminder, your data should only be from **the subset with few or no missing values**."
   ]
  },
  {
   "cell_type": "code",
   "execution_count": 34,
   "metadata": {},
   "outputs": [
    {
     "data": {
      "text/html": [
       "<div>\n",
       "<style scoped>\n",
       "    .dataframe tbody tr th:only-of-type {\n",
       "        vertical-align: middle;\n",
       "    }\n",
       "\n",
       "    .dataframe tbody tr th {\n",
       "        vertical-align: top;\n",
       "    }\n",
       "\n",
       "    .dataframe thead th {\n",
       "        text-align: right;\n",
       "    }\n",
       "</style>\n",
       "<table border=\"1\" class=\"dataframe\">\n",
       "  <thead>\n",
       "    <tr style=\"text-align: right;\">\n",
       "      <th></th>\n",
       "      <th>ALTERSKATEGORIE_GROB</th>\n",
       "      <th>ANREDE_KZ</th>\n",
       "      <th>FINANZ_MINIMALIST</th>\n",
       "      <th>FINANZ_SPARER</th>\n",
       "      <th>FINANZ_VORSORGER</th>\n",
       "      <th>FINANZ_ANLEGER</th>\n",
       "      <th>FINANZ_UNAUFFAELLIGER</th>\n",
       "      <th>FINANZ_HAUSBAUER</th>\n",
       "      <th>GREEN_AVANTGARDE</th>\n",
       "      <th>HEALTH_TYP</th>\n",
       "      <th>...</th>\n",
       "      <th>PLZ8_ANTG4</th>\n",
       "      <th>PLZ8_HHZ</th>\n",
       "      <th>PLZ8_GBZ</th>\n",
       "      <th>ARBEIT</th>\n",
       "      <th>ORTSGR_KLS9</th>\n",
       "      <th>RELAT_AB</th>\n",
       "      <th>PRAEGENDE_JUGENDJAHRE_DECADE</th>\n",
       "      <th>PRAEGENDE_JUGENDJAHRE_MOVEMENT</th>\n",
       "      <th>CAMEO_INTL_2015_WEALTH</th>\n",
       "      <th>CAMEO_INTL_2015_LIFESTAGE</th>\n",
       "    </tr>\n",
       "  </thead>\n",
       "  <tbody>\n",
       "    <tr>\n",
       "      <th>1</th>\n",
       "      <td>1.0</td>\n",
       "      <td>2</td>\n",
       "      <td>1</td>\n",
       "      <td>5</td>\n",
       "      <td>2</td>\n",
       "      <td>5</td>\n",
       "      <td>4</td>\n",
       "      <td>5</td>\n",
       "      <td>0</td>\n",
       "      <td>3.0</td>\n",
       "      <td>...</td>\n",
       "      <td>1.0</td>\n",
       "      <td>5.0</td>\n",
       "      <td>4.0</td>\n",
       "      <td>3.0</td>\n",
       "      <td>5.0</td>\n",
       "      <td>4.0</td>\n",
       "      <td>6.0</td>\n",
       "      <td>1.0</td>\n",
       "      <td>5.0</td>\n",
       "      <td>1.0</td>\n",
       "    </tr>\n",
       "    <tr>\n",
       "      <th>2</th>\n",
       "      <td>3.0</td>\n",
       "      <td>2</td>\n",
       "      <td>1</td>\n",
       "      <td>4</td>\n",
       "      <td>1</td>\n",
       "      <td>2</td>\n",
       "      <td>3</td>\n",
       "      <td>5</td>\n",
       "      <td>1</td>\n",
       "      <td>3.0</td>\n",
       "      <td>...</td>\n",
       "      <td>0.0</td>\n",
       "      <td>4.0</td>\n",
       "      <td>4.0</td>\n",
       "      <td>3.0</td>\n",
       "      <td>5.0</td>\n",
       "      <td>2.0</td>\n",
       "      <td>6.0</td>\n",
       "      <td>0.0</td>\n",
       "      <td>2.0</td>\n",
       "      <td>4.0</td>\n",
       "    </tr>\n",
       "    <tr>\n",
       "      <th>3</th>\n",
       "      <td>4.0</td>\n",
       "      <td>2</td>\n",
       "      <td>4</td>\n",
       "      <td>2</td>\n",
       "      <td>5</td>\n",
       "      <td>2</td>\n",
       "      <td>1</td>\n",
       "      <td>2</td>\n",
       "      <td>0</td>\n",
       "      <td>2.0</td>\n",
       "      <td>...</td>\n",
       "      <td>0.0</td>\n",
       "      <td>3.0</td>\n",
       "      <td>4.0</td>\n",
       "      <td>2.0</td>\n",
       "      <td>3.0</td>\n",
       "      <td>3.0</td>\n",
       "      <td>4.0</td>\n",
       "      <td>1.0</td>\n",
       "      <td>1.0</td>\n",
       "      <td>2.0</td>\n",
       "    </tr>\n",
       "    <tr>\n",
       "      <th>4</th>\n",
       "      <td>3.0</td>\n",
       "      <td>1</td>\n",
       "      <td>4</td>\n",
       "      <td>3</td>\n",
       "      <td>4</td>\n",
       "      <td>1</td>\n",
       "      <td>3</td>\n",
       "      <td>2</td>\n",
       "      <td>0</td>\n",
       "      <td>3.0</td>\n",
       "      <td>...</td>\n",
       "      <td>1.0</td>\n",
       "      <td>3.0</td>\n",
       "      <td>3.0</td>\n",
       "      <td>4.0</td>\n",
       "      <td>6.0</td>\n",
       "      <td>5.0</td>\n",
       "      <td>4.0</td>\n",
       "      <td>1.0</td>\n",
       "      <td>4.0</td>\n",
       "      <td>3.0</td>\n",
       "    </tr>\n",
       "    <tr>\n",
       "      <th>5</th>\n",
       "      <td>1.0</td>\n",
       "      <td>2</td>\n",
       "      <td>3</td>\n",
       "      <td>1</td>\n",
       "      <td>5</td>\n",
       "      <td>2</td>\n",
       "      <td>2</td>\n",
       "      <td>5</td>\n",
       "      <td>0</td>\n",
       "      <td>3.0</td>\n",
       "      <td>...</td>\n",
       "      <td>1.0</td>\n",
       "      <td>5.0</td>\n",
       "      <td>5.0</td>\n",
       "      <td>2.0</td>\n",
       "      <td>3.0</td>\n",
       "      <td>3.0</td>\n",
       "      <td>2.0</td>\n",
       "      <td>1.0</td>\n",
       "      <td>5.0</td>\n",
       "      <td>4.0</td>\n",
       "    </tr>\n",
       "  </tbody>\n",
       "</table>\n",
       "<p>5 rows × 64 columns</p>\n",
       "</div>"
      ],
      "text/plain": [
       "   ALTERSKATEGORIE_GROB  ANREDE_KZ  FINANZ_MINIMALIST  FINANZ_SPARER  \\\n",
       "1                   1.0          2                  1              5   \n",
       "2                   3.0          2                  1              4   \n",
       "3                   4.0          2                  4              2   \n",
       "4                   3.0          1                  4              3   \n",
       "5                   1.0          2                  3              1   \n",
       "\n",
       "   FINANZ_VORSORGER  FINANZ_ANLEGER  FINANZ_UNAUFFAELLIGER  FINANZ_HAUSBAUER  \\\n",
       "1                 2               5                      4                 5   \n",
       "2                 1               2                      3                 5   \n",
       "3                 5               2                      1                 2   \n",
       "4                 4               1                      3                 2   \n",
       "5                 5               2                      2                 5   \n",
       "\n",
       "   GREEN_AVANTGARDE  HEALTH_TYP            ...              PLZ8_ANTG4  \\\n",
       "1                 0         3.0            ...                     1.0   \n",
       "2                 1         3.0            ...                     0.0   \n",
       "3                 0         2.0            ...                     0.0   \n",
       "4                 0         3.0            ...                     1.0   \n",
       "5                 0         3.0            ...                     1.0   \n",
       "\n",
       "   PLZ8_HHZ  PLZ8_GBZ  ARBEIT  ORTSGR_KLS9  RELAT_AB  \\\n",
       "1       5.0       4.0     3.0          5.0       4.0   \n",
       "2       4.0       4.0     3.0          5.0       2.0   \n",
       "3       3.0       4.0     2.0          3.0       3.0   \n",
       "4       3.0       3.0     4.0          6.0       5.0   \n",
       "5       5.0       5.0     2.0          3.0       3.0   \n",
       "\n",
       "   PRAEGENDE_JUGENDJAHRE_DECADE  PRAEGENDE_JUGENDJAHRE_MOVEMENT  \\\n",
       "1                           6.0                             1.0   \n",
       "2                           6.0                             0.0   \n",
       "3                           4.0                             1.0   \n",
       "4                           4.0                             1.0   \n",
       "5                           2.0                             1.0   \n",
       "\n",
       "   CAMEO_INTL_2015_WEALTH  CAMEO_INTL_2015_LIFESTAGE  \n",
       "1                     5.0                        1.0  \n",
       "2                     2.0                        4.0  \n",
       "3                     1.0                        2.0  \n",
       "4                     4.0                        3.0  \n",
       "5                     5.0                        4.0  \n",
       "\n",
       "[5 rows x 64 columns]"
      ]
     },
     "execution_count": 34,
     "metadata": {},
     "output_type": "execute_result"
    }
   ],
   "source": [
    "# Do whatever you need to in order to ensure that the dataframe only contains\n",
    "# the columns that should be passed to the algorithm functions.\n",
    "\n",
    "azdias_low_missing.head(5)"
   ]
  },
  {
   "cell_type": "markdown",
   "metadata": {},
   "source": [
    "### Step 1.3: Create a Cleaning Function\n",
    "\n",
    "Even though you've finished cleaning up the general population demographics data, it's important to look ahead to the future and realize that you'll need to perform the same cleaning steps on the customer demographics data. In this substep, complete the function below to execute the main feature selection, encoding, and re-engineering steps you performed above. Then, when it comes to looking at the customer data in Step 3, you can just run this function on that DataFrame to get the trimmed dataset in a single step."
   ]
  },
  {
   "cell_type": "code",
   "execution_count": 76,
   "metadata": {},
   "outputs": [],
   "source": [
    "def clean_data(df, feat_info):\n",
    "    \"\"\"\n",
    "    Perform feature trimming, re-encoding, and engineering for demographics\n",
    "    data\n",
    "    \n",
    "    INPUT: Demographics DataFrame\n",
    "    OUTPUT: Trimmed and cleaned demographics DataFrame\n",
    "    \"\"\"\n",
    "    \n",
    "    # Put in code here to execute all main cleaning steps:\n",
    "    # convert missing value codes into NaNs, ...\n",
    "    df_NaN = makeNaN(df, feat_info)\n",
    "    \n",
    "    \n",
    "    # remove selected columns and rows, ...\n",
    "    #for column\n",
    "    customer_missing_per_column, customer_missing_percentage_per_column = plot_missing(df_NaN)\n",
    "    #remove columns with more than 35% NaN\n",
    "    customer_outlier_columns = customer_missing_percentage_per_column[customer_missing_percentage_per_column.values > 35].index\n",
    "    df_rem_col = drop_outliers(df_NaN, customer_outlier_columns)\n",
    "    \n",
    "    #for rows\n",
    "    customer_missing_per_row, customer_missing_percentage_per_row = plot_missing_data_row(df_rem_col)\n",
    "    customer_low_missing = customer_missing_per_row[customer_missing_per_row.values <=30].index\n",
    "    customer_high_missing = customer_missing_per_row[customer_missing_per_row.values > 30].index\n",
    "    df_low_missing, df_high_missing = split_dataset(customer_low_missing, customer_high_missing, df_rem_col)\n",
    "    \n",
    "    # select, re-encode, and engineer column values.\n",
    "    #Encode non numeric binary feature\n",
    "    customer_binary_feat, customer_multi_feat = categorical(df_low_missing, feat_info)\n",
    "    remap_binary(df_low_missing, customer_binary_feat)\n",
    "    \n",
    "    #drop multi-feature categorical variables\n",
    "    df_low_missing = drop_multi(df_low_missing, customer_multi_feat)\n",
    "    \n",
    "    #Rencoding mixed variables\n",
    "    df_low_missing = make_dec_var(df_low_missing)\n",
    "    df_low_missing = make_mov_var(df_low_missing)\n",
    "    \n",
    "    #remove the PRAEGENDE_JUGENDJAHRE column\n",
    "    df_low_missing.drop('PRAEGENDE_JUGENDJAHRE', axis = 1, inplace = True)\n",
    "    \n",
    "    #Rencoding mixed variables\n",
    "    df_low_missing = make_wealth_var(df_low_missing)\n",
    "    df_low_missing = make_life_stage_var(df_low_missing)\n",
    "    \n",
    "    #remove the CAMEO_INTL_2015 column\n",
    "    df_low_missing.drop('CAMEO_INTL_2015', axis = 1, inplace = True)\n",
    "    \n",
    "    #drop remaining mixed variable columns\n",
    "    df_low_missing = drop_mix_col(df_low_missing, feat_info)\n",
    "\n",
    "\n",
    "\n",
    "    \n",
    "    # Return the cleaned dataframe.\n",
    "    return df_low_missing\n",
    "    \n",
    "    "
   ]
  },
  {
   "cell_type": "markdown",
   "metadata": {},
   "source": [
    "## Step 2: Feature Transformation\n",
    "\n",
    "### Step 2.1: Apply Feature Scaling\n",
    "\n",
    "Before we apply dimensionality reduction techniques to the data, we need to perform feature scaling so that the principal component vectors are not influenced by the natural differences in scale for features. Starting from this part of the project, you'll want to keep an eye on the [API reference page for sklearn](http://scikit-learn.org/stable/modules/classes.html) to help you navigate to all of the classes and functions that you'll need. In this substep, you'll need to check the following:\n",
    "\n",
    "- sklearn requires that data not have missing values in order for its estimators to work properly. So, before applying the scaler to your data, make sure that you've cleaned the DataFrame of the remaining missing values. This can be as simple as just removing all data points with missing data, or applying an [Imputer](http://scikit-learn.org/stable/modules/generated/sklearn.preprocessing.Imputer.html) to replace all missing values. You might also try a more complicated procedure where you temporarily remove missing values in order to compute the scaling parameters before re-introducing those missing values and applying imputation. Think about how much missing data you have and what possible effects each approach might have on your analysis, and justify your decision in the discussion section below.\n",
    "- For the actual scaling function, a [StandardScaler](http://scikit-learn.org/stable/modules/generated/sklearn.preprocessing.StandardScaler.html) instance is suggested, scaling each feature to mean 0 and standard deviation 1.\n",
    "- For these classes, you can make use of the `.fit_transform()` method to both fit a procedure to the data as well as apply the transformation to the data at the same time. Don't forget to keep the fit sklearn objects handy, since you'll be applying them to the customer demographics data towards the end of the project."
   ]
  },
  {
   "cell_type": "code",
   "execution_count": 36,
   "metadata": {},
   "outputs": [],
   "source": [
    "# If you've not yet cleaned the dataset of all NaN values, then investigate and\n",
    "# do that now.\n",
    "def use_impute(azdias_low_missing):\n",
    "    imp = Imputer(missing_values = np.nan, strategy = 'most_frequent', axis = 0)\n",
    "    azdias_clean = pd.DataFrame(imp.fit_transform(azdias_low_missing))\n",
    "    return azdias_clean\n"
   ]
  },
  {
   "cell_type": "code",
   "execution_count": 94,
   "metadata": {},
   "outputs": [],
   "source": [
    "#Use imputer to fill in NaN values\n",
    "def clean(azdias_low_missing):\n",
    "    azdias_clean = use_impute(azdias_low_missing)\n",
    "    azdias_clean.columns = azdias_low_missing.columns\n",
    "    azdias_clean.index = azdias_low_missing.index\n",
    "    return azdias_clean\n",
    "\n",
    "azdias_clean = clean(azdias_low_missing)"
   ]
  },
  {
   "cell_type": "code",
   "execution_count": 95,
   "metadata": {},
   "outputs": [],
   "source": [
    "# Apply feature scaling to the general population demographics data.\n",
    "def feat_scale(azdias_clean):\n",
    "    scaler = p.StandardScaler()\n",
    "    azdias_standard = pd.DataFrame(scaler.fit_transform(azdias_clean))\n",
    "    azdias_standard.columns = azdias_low_missing.columns\n",
    "    azdias_standard.index = azdias_low_missing.index\n",
    "    return azdias_standard, scaler\n",
    "\n",
    "\n",
    "azdias_standard, scaler= feat_scale(azdias_clean)"
   ]
  },
  {
   "cell_type": "code",
   "execution_count": 96,
   "metadata": {},
   "outputs": [
    {
     "data": {
      "text/html": [
       "<div>\n",
       "<style scoped>\n",
       "    .dataframe tbody tr th:only-of-type {\n",
       "        vertical-align: middle;\n",
       "    }\n",
       "\n",
       "    .dataframe tbody tr th {\n",
       "        vertical-align: top;\n",
       "    }\n",
       "\n",
       "    .dataframe thead th {\n",
       "        text-align: right;\n",
       "    }\n",
       "</style>\n",
       "<table border=\"1\" class=\"dataframe\">\n",
       "  <thead>\n",
       "    <tr style=\"text-align: right;\">\n",
       "      <th></th>\n",
       "      <th>ALTERSKATEGORIE_GROB</th>\n",
       "      <th>ANREDE_KZ</th>\n",
       "      <th>FINANZ_MINIMALIST</th>\n",
       "      <th>FINANZ_SPARER</th>\n",
       "      <th>FINANZ_VORSORGER</th>\n",
       "      <th>FINANZ_ANLEGER</th>\n",
       "      <th>FINANZ_UNAUFFAELLIGER</th>\n",
       "      <th>FINANZ_HAUSBAUER</th>\n",
       "      <th>GREEN_AVANTGARDE</th>\n",
       "      <th>HEALTH_TYP</th>\n",
       "      <th>...</th>\n",
       "      <th>PLZ8_ANTG4</th>\n",
       "      <th>PLZ8_HHZ</th>\n",
       "      <th>PLZ8_GBZ</th>\n",
       "      <th>ARBEIT</th>\n",
       "      <th>ORTSGR_KLS9</th>\n",
       "      <th>RELAT_AB</th>\n",
       "      <th>PRAEGENDE_JUGENDJAHRE_DECADE</th>\n",
       "      <th>PRAEGENDE_JUGENDJAHRE_MOVEMENT</th>\n",
       "      <th>CAMEO_INTL_2015_WEALTH</th>\n",
       "      <th>CAMEO_INTL_2015_LIFESTAGE</th>\n",
       "    </tr>\n",
       "  </thead>\n",
       "  <tbody>\n",
       "    <tr>\n",
       "      <th>1</th>\n",
       "      <td>-1.766647</td>\n",
       "      <td>0.957912</td>\n",
       "      <td>-1.494594</td>\n",
       "      <td>1.537920</td>\n",
       "      <td>-1.040686</td>\n",
       "      <td>1.465965</td>\n",
       "      <td>0.958633</td>\n",
       "      <td>1.339319</td>\n",
       "      <td>-0.530407</td>\n",
       "      <td>1.010156</td>\n",
       "      <td>...</td>\n",
       "      <td>0.442535</td>\n",
       "      <td>1.455855</td>\n",
       "      <td>0.574309</td>\n",
       "      <td>-0.171399</td>\n",
       "      <td>-0.127042</td>\n",
       "      <td>0.684885</td>\n",
       "      <td>1.098064</td>\n",
       "      <td>0.530407</td>\n",
       "      <td>1.175655</td>\n",
       "      <td>-1.248888</td>\n",
       "    </tr>\n",
       "    <tr>\n",
       "      <th>2</th>\n",
       "      <td>0.200522</td>\n",
       "      <td>0.957912</td>\n",
       "      <td>-1.494594</td>\n",
       "      <td>0.864560</td>\n",
       "      <td>-1.766972</td>\n",
       "      <td>-0.570999</td>\n",
       "      <td>0.244109</td>\n",
       "      <td>1.339319</td>\n",
       "      <td>1.885345</td>\n",
       "      <td>1.010156</td>\n",
       "      <td>...</td>\n",
       "      <td>-0.934791</td>\n",
       "      <td>0.419746</td>\n",
       "      <td>0.574309</td>\n",
       "      <td>-0.171399</td>\n",
       "      <td>-0.127042</td>\n",
       "      <td>-0.789025</td>\n",
       "      <td>1.098064</td>\n",
       "      <td>-1.885345</td>\n",
       "      <td>-0.869682</td>\n",
       "      <td>0.767097</td>\n",
       "    </tr>\n",
       "    <tr>\n",
       "      <th>3</th>\n",
       "      <td>1.184107</td>\n",
       "      <td>0.957912</td>\n",
       "      <td>0.683145</td>\n",
       "      <td>-0.482159</td>\n",
       "      <td>1.138172</td>\n",
       "      <td>-0.570999</td>\n",
       "      <td>-1.184938</td>\n",
       "      <td>-0.791197</td>\n",
       "      <td>-0.530407</td>\n",
       "      <td>-0.311824</td>\n",
       "      <td>...</td>\n",
       "      <td>-0.934791</td>\n",
       "      <td>-0.616363</td>\n",
       "      <td>0.574309</td>\n",
       "      <td>-1.173149</td>\n",
       "      <td>-0.997550</td>\n",
       "      <td>-0.052070</td>\n",
       "      <td>-0.267784</td>\n",
       "      <td>0.530407</td>\n",
       "      <td>-1.551461</td>\n",
       "      <td>-0.576893</td>\n",
       "    </tr>\n",
       "    <tr>\n",
       "      <th>4</th>\n",
       "      <td>0.200522</td>\n",
       "      <td>-1.043937</td>\n",
       "      <td>0.683145</td>\n",
       "      <td>0.191200</td>\n",
       "      <td>0.411886</td>\n",
       "      <td>-1.249987</td>\n",
       "      <td>0.244109</td>\n",
       "      <td>-0.791197</td>\n",
       "      <td>-0.530407</td>\n",
       "      <td>1.010156</td>\n",
       "      <td>...</td>\n",
       "      <td>0.442535</td>\n",
       "      <td>-0.616363</td>\n",
       "      <td>-0.337194</td>\n",
       "      <td>0.830351</td>\n",
       "      <td>0.308212</td>\n",
       "      <td>1.421840</td>\n",
       "      <td>-0.267784</td>\n",
       "      <td>0.530407</td>\n",
       "      <td>0.493876</td>\n",
       "      <td>0.095102</td>\n",
       "    </tr>\n",
       "    <tr>\n",
       "      <th>5</th>\n",
       "      <td>-1.766647</td>\n",
       "      <td>0.957912</td>\n",
       "      <td>-0.042768</td>\n",
       "      <td>-1.155519</td>\n",
       "      <td>1.138172</td>\n",
       "      <td>-0.570999</td>\n",
       "      <td>-0.470414</td>\n",
       "      <td>1.339319</td>\n",
       "      <td>-0.530407</td>\n",
       "      <td>1.010156</td>\n",
       "      <td>...</td>\n",
       "      <td>0.442535</td>\n",
       "      <td>1.455855</td>\n",
       "      <td>1.485812</td>\n",
       "      <td>-1.173149</td>\n",
       "      <td>-0.997550</td>\n",
       "      <td>-0.052070</td>\n",
       "      <td>-1.633632</td>\n",
       "      <td>0.530407</td>\n",
       "      <td>1.175655</td>\n",
       "      <td>0.767097</td>\n",
       "    </tr>\n",
       "  </tbody>\n",
       "</table>\n",
       "<p>5 rows × 64 columns</p>\n",
       "</div>"
      ],
      "text/plain": [
       "   ALTERSKATEGORIE_GROB  ANREDE_KZ  FINANZ_MINIMALIST  FINANZ_SPARER  \\\n",
       "1             -1.766647   0.957912          -1.494594       1.537920   \n",
       "2              0.200522   0.957912          -1.494594       0.864560   \n",
       "3              1.184107   0.957912           0.683145      -0.482159   \n",
       "4              0.200522  -1.043937           0.683145       0.191200   \n",
       "5             -1.766647   0.957912          -0.042768      -1.155519   \n",
       "\n",
       "   FINANZ_VORSORGER  FINANZ_ANLEGER  FINANZ_UNAUFFAELLIGER  FINANZ_HAUSBAUER  \\\n",
       "1         -1.040686        1.465965               0.958633          1.339319   \n",
       "2         -1.766972       -0.570999               0.244109          1.339319   \n",
       "3          1.138172       -0.570999              -1.184938         -0.791197   \n",
       "4          0.411886       -1.249987               0.244109         -0.791197   \n",
       "5          1.138172       -0.570999              -0.470414          1.339319   \n",
       "\n",
       "   GREEN_AVANTGARDE  HEALTH_TYP            ...              PLZ8_ANTG4  \\\n",
       "1         -0.530407    1.010156            ...                0.442535   \n",
       "2          1.885345    1.010156            ...               -0.934791   \n",
       "3         -0.530407   -0.311824            ...               -0.934791   \n",
       "4         -0.530407    1.010156            ...                0.442535   \n",
       "5         -0.530407    1.010156            ...                0.442535   \n",
       "\n",
       "   PLZ8_HHZ  PLZ8_GBZ    ARBEIT  ORTSGR_KLS9  RELAT_AB  \\\n",
       "1  1.455855  0.574309 -0.171399    -0.127042  0.684885   \n",
       "2  0.419746  0.574309 -0.171399    -0.127042 -0.789025   \n",
       "3 -0.616363  0.574309 -1.173149    -0.997550 -0.052070   \n",
       "4 -0.616363 -0.337194  0.830351     0.308212  1.421840   \n",
       "5  1.455855  1.485812 -1.173149    -0.997550 -0.052070   \n",
       "\n",
       "   PRAEGENDE_JUGENDJAHRE_DECADE  PRAEGENDE_JUGENDJAHRE_MOVEMENT  \\\n",
       "1                      1.098064                        0.530407   \n",
       "2                      1.098064                       -1.885345   \n",
       "3                     -0.267784                        0.530407   \n",
       "4                     -0.267784                        0.530407   \n",
       "5                     -1.633632                        0.530407   \n",
       "\n",
       "   CAMEO_INTL_2015_WEALTH  CAMEO_INTL_2015_LIFESTAGE  \n",
       "1                1.175655                  -1.248888  \n",
       "2               -0.869682                   0.767097  \n",
       "3               -1.551461                  -0.576893  \n",
       "4                0.493876                   0.095102  \n",
       "5                1.175655                   0.767097  \n",
       "\n",
       "[5 rows x 64 columns]"
      ]
     },
     "execution_count": 96,
     "metadata": {},
     "output_type": "execute_result"
    }
   ],
   "source": [
    "azdias_standard.head(5)"
   ]
  },
  {
   "cell_type": "markdown",
   "metadata": {},
   "source": [
    "### Discussion 2.1: Apply Feature Scaling\n",
    "\n",
    "Imputer was used to fill NaN values in the dataset and then StandardScaler was used to Standardize the dataset\n"
   ]
  },
  {
   "cell_type": "markdown",
   "metadata": {},
   "source": [
    "### Step 2.2: Perform Dimensionality Reduction\n",
    "\n",
    "On your scaled data, you are now ready to apply dimensionality reduction techniques.\n",
    "\n",
    "- Use sklearn's [PCA](http://scikit-learn.org/stable/modules/generated/sklearn.decomposition.PCA.html) class to apply principal component analysis on the data, thus finding the vectors of maximal variance in the data. To start, you should not set any parameters (so all components are computed) or set a number of components that is at least half the number of features (so there's enough features to see the general trend in variability).\n",
    "- Check out the ratio of variance explained by each principal component as well as the cumulative variance explained. Try plotting the cumulative or sequential values using matplotlib's [`plot()`](https://matplotlib.org/api/_as_gen/matplotlib.pyplot.plot.html) function. Based on what you find, select a value for the number of transformed features you'll retain for the clustering part of the project.\n",
    "- Once you've made a choice for the number of components to keep, make sure you re-fit a PCA instance to perform the decided-on transformation."
   ]
  },
  {
   "cell_type": "code",
   "execution_count": 40,
   "metadata": {},
   "outputs": [],
   "source": [
    "# Apply PCA to the data.\n",
    "def do_pca(n_components, data):\n",
    "    pca = PCA(n_components)\n",
    "    X_pca = pca.fit_transform(data)\n",
    "    \n",
    "    return pca, X_pca\n",
    "\n"
   ]
  },
  {
   "cell_type": "code",
   "execution_count": 41,
   "metadata": {},
   "outputs": [],
   "source": [
    "pca, X_pca = do_pca(33, azdias_standard)"
   ]
  },
  {
   "cell_type": "code",
   "execution_count": 42,
   "metadata": {},
   "outputs": [
    {
     "data": {
      "text/plain": [
       "(798067, 33)"
      ]
     },
     "execution_count": 42,
     "metadata": {},
     "output_type": "execute_result"
    }
   ],
   "source": [
    "X_pca.shape"
   ]
  },
  {
   "cell_type": "code",
   "execution_count": 43,
   "metadata": {},
   "outputs": [
    {
     "data": {
      "image/png": "[encoded data removed]",
      "text/plain": [
       "<matplotlib.figure.Figure at 0x7f718157d940>"
      ]
     },
     "metadata": {
      "needs_background": "light"
     },
     "output_type": "display_data"
    }
   ],
   "source": [
    "# Investigate the variance accounted for by each principal component.\n",
    "#plot variance explained ratio\n",
    "def var_ratio_plot(pca):\n",
    "    plt.bar(range(len(pca.explained_variance_ratio_)), pca.explained_variance_ratio_)\n",
    "    plt.xlabel('Principal Components')\n",
    "    plt.ylabel('Ratio of Variance Explained')\n",
    "    plt.title('Ratio of Variance Explained by Principal Components')\n",
    "    plt.show()\n",
    "\n",
    "var_ratio_plot(pca)\n"
   ]
  },
  {
   "cell_type": "code",
   "execution_count": 44,
   "metadata": {},
   "outputs": [
    {
     "data": {
      "image/png": "[encoded data removed]",
      "text/plain": [
       "<matplotlib.figure.Figure at 0x7f7181732ba8>"
      ]
     },
     "metadata": {
      "needs_background": "light"
     },
     "output_type": "display_data"
    }
   ],
   "source": [
    "#Plot Cumulative variance explained\n",
    "def cum_var_ratio_plot(pca):\n",
    "    plt.plot(range(len(pca.explained_variance_ratio_)), np.cumsum(pca.explained_variance_ratio_))\n",
    "    plt.xlabel('Principal Components')\n",
    "    plt.ylabel('Ratio of Variance Explained')\n",
    "    plt.title('Cumulative Ratio of Variance Explained by Principal Components')\n",
    "    plt.show()\n",
    "\n",
    "cum_var_ratio_plot(pca)"
   ]
  },
  {
   "cell_type": "code",
   "execution_count": 45,
   "metadata": {},
   "outputs": [],
   "source": [
    "# Re-apply PCA to the data while selecting for number of components to retain.\n",
    "pca, X_pca = do_pca(33, azdias_standard)"
   ]
  },
  {
   "cell_type": "code",
   "execution_count": 46,
   "metadata": {},
   "outputs": [],
   "source": [
    "azdias_aft_pca = pd.DataFrame(X_pca)"
   ]
  },
  {
   "cell_type": "markdown",
   "metadata": {},
   "source": [
    "### Discussion 2.2: Perform Dimensionality Reduction\n",
    "\n",
    "I decided to keep 33 principal components as they explained the variance of around 90% of the dataset and almost halved the number of columns"
   ]
  },
  {
   "cell_type": "markdown",
   "metadata": {},
   "source": [
    "### Step 2.3: Interpret Principal Components\n",
    "\n",
    "Now that we have our transformed principal components, it's a nice idea to check out the weight of each variable on the first few components to see if they can be interpreted in some fashion.\n",
    "\n",
    "As a reminder, each principal component is a unit vector that points in the direction of highest variance (after accounting for the variance captured by earlier principal components). The further a weight is from zero, the more the principal component is in the direction of the corresponding feature. If two features have large weights of the same sign (both positive or both negative), then increases in one tend expect to be associated with increases in the other. To contrast, features with different signs can be expected to show a negative correlation: increases in one variable should result in a decrease in the other.\n",
    "\n",
    "- To investigate the features, you should map each weight to their corresponding feature name, then sort the features according to weight. The most interesting features for each principal component, then, will be those at the beginning and end of the sorted list. Use the data dictionary document to help you understand these most prominent features, their relationships, and what a positive or negative value on the principal component might indicate.\n",
    "- You should investigate and interpret feature associations from the first three principal components in this substep. To help facilitate this, you should write a function that you can call at any time to print the sorted list of feature weights, for the *i*-th principal component. This might come in handy in the next step of the project, when you interpret the tendencies of the discovered clusters."
   ]
  },
  {
   "cell_type": "code",
   "execution_count": 47,
   "metadata": {},
   "outputs": [],
   "source": [
    "#function maps weights for principal components\n",
    "def map_weight(pca, component, azdias_standard):\n",
    "    x = pd.DataFrame(pca.components_, columns = azdias_standard.columns)\n",
    "    weights = x.iloc[component].sort_values(ascending = False)\n",
    "    return weights\n",
    "\n",
    "  "
   ]
  },
  {
   "cell_type": "code",
   "execution_count": 48,
   "metadata": {},
   "outputs": [
    {
     "name": "stdout",
     "output_type": "stream",
     "text": [
      "PLZ8_ANTG3                        0.225345\n",
      "PLZ8_ANTG4                        0.216872\n",
      "CAMEO_INTL_2015_WEALTH            0.204627\n",
      "HH_EINKOMMEN_SCORE                0.202187\n",
      "ORTSGR_KLS9                       0.196765\n",
      "EWDICHTE                          0.194654\n",
      "FINANZ_HAUSBAUER                  0.159509\n",
      "KBA05_ANTG4                       0.153988\n",
      "PLZ8_ANTG2                        0.153685\n",
      "FINANZ_SPARER                     0.153110\n",
      "ARBEIT                            0.142565\n",
      "KBA05_ANTG3                       0.136723\n",
      "ANZ_HAUSHALTE_AKTIV               0.136056\n",
      "RELAT_AB                          0.134948\n",
      "SEMIO_PFLICHT                     0.121171\n",
      "SEMIO_REL                         0.118599\n",
      "PRAEGENDE_JUGENDJAHRE_DECADE      0.112257\n",
      "PRAEGENDE_JUGENDJAHRE_MOVEMENT    0.110213\n",
      "SEMIO_RAT                         0.099581\n",
      "SEMIO_TRADV                       0.093724\n",
      "SEMIO_MAT                         0.082443\n",
      "FINANZ_UNAUFFAELLIGER             0.081094\n",
      "SEMIO_FAM                         0.081011\n",
      "SEMIO_KULT                        0.075521\n",
      "FINANZ_ANLEGER                    0.075107\n",
      "REGIOTYP                          0.060337\n",
      "OST_WEST_KZ                       0.053663\n",
      "SEMIO_SOZ                         0.043294\n",
      "PLZ8_HHZ                          0.042248\n",
      "HEALTH_TYP                        0.041222\n",
      "                                    ...   \n",
      "VERS_TYP                          0.032599\n",
      "SEMIO_DOM                         0.023777\n",
      "KBA05_ANTG2                       0.013725\n",
      "ANREDE_KZ                         0.007529\n",
      "SEMIO_KRIT                        0.003809\n",
      "SOHO_KZ                          -0.001989\n",
      "ANZ_TITEL                        -0.004228\n",
      "RETOURTYP_BK_S                   -0.021723\n",
      "SEMIO_VERT                       -0.040622\n",
      "ONLINE_AFFINITAET                -0.041277\n",
      "MIN_GEBAEUDEJAHR                 -0.042946\n",
      "WOHNDAUER_2008                   -0.061243\n",
      "KBA13_ANZAHL_PKW                 -0.073927\n",
      "SEMIO_LUST                       -0.076895\n",
      "ANZ_PERSONEN                     -0.078068\n",
      "SEMIO_ERL                        -0.080174\n",
      "GREEN_AVANTGARDE                 -0.110213\n",
      "GEBAEUDETYP_RASTER               -0.117185\n",
      "FINANZ_VORSORGER                 -0.120183\n",
      "CAMEO_INTL_2015_LIFESTAGE        -0.125163\n",
      "ALTERSKATEGORIE_GROB             -0.125613\n",
      "BALLRAUM                         -0.127346\n",
      "INNENSTADT                       -0.164639\n",
      "PLZ8_GBZ                         -0.166380\n",
      "KONSUMNAEHE                      -0.167395\n",
      "KBA05_ANTG1                      -0.214438\n",
      "KBA05_GBZ                        -0.216061\n",
      "FINANZ_MINIMALIST                -0.223093\n",
      "MOBI_REGIO                       -0.224811\n",
      "PLZ8_ANTG1                       -0.225665\n",
      "Name: 0, Length: 64, dtype: float64\n"
     ]
    }
   ],
   "source": [
    "# Map weights for the first principal component to corresponding feature names\n",
    "# and then print the linked values, sorted by weight.\n",
    "# HINT: Try defining a function here or in a new cell that you can reuse in the\n",
    "# other cells.\n",
    "weights_1 =  map_weight(pca, 0, azdias_standard)\n",
    "print(weights_1)\n"
   ]
  },
  {
   "cell_type": "code",
   "execution_count": 49,
   "metadata": {},
   "outputs": [
    {
     "name": "stdout",
     "output_type": "stream",
     "text": [
      "ALTERSKATEGORIE_GROB              0.256265\n",
      "SEMIO_ERL                         0.229916\n",
      "FINANZ_VORSORGER                  0.229239\n",
      "SEMIO_LUST                        0.180110\n",
      "RETOURTYP_BK_S                    0.161876\n",
      "FINANZ_HAUSBAUER                  0.121831\n",
      "SEMIO_KRIT                        0.117849\n",
      "SEMIO_KAEM                        0.116437\n",
      "W_KEIT_KIND_HH                    0.114739\n",
      "PLZ8_ANTG3                        0.098404\n",
      "EWDICHTE                          0.097909\n",
      "ORTSGR_KLS9                       0.096589\n",
      "PLZ8_ANTG4                        0.096258\n",
      "ANREDE_KZ                         0.093140\n",
      "CAMEO_INTL_2015_WEALTH            0.079219\n",
      "KBA05_ANTG4                       0.075240\n",
      "SEMIO_DOM                         0.074492\n",
      "ARBEIT                            0.071835\n",
      "RELAT_AB                          0.069308\n",
      "PLZ8_ANTG2                        0.068172\n",
      "ANZ_HAUSHALTE_AKTIV               0.066490\n",
      "HH_EINKOMMEN_SCORE                0.061968\n",
      "FINANZ_MINIMALIST                 0.059374\n",
      "WOHNDAUER_2008                    0.058467\n",
      "KBA05_ANTG3                       0.050578\n",
      "VERS_TYP                          0.032143\n",
      "ANZ_HH_TITEL                      0.032079\n",
      "OST_WEST_KZ                       0.027484\n",
      "PRAEGENDE_JUGENDJAHRE_MOVEMENT    0.018376\n",
      "PLZ8_HHZ                          0.015915\n",
      "                                    ...   \n",
      "KBA05_ANTG2                      -0.001254\n",
      "SOHO_KZ                          -0.001965\n",
      "GREEN_AVANTGARDE                 -0.018376\n",
      "KBA13_ANZAHL_PKW                 -0.038003\n",
      "GEBAEUDETYP_RASTER               -0.047252\n",
      "MIN_GEBAEUDEJAHR                 -0.049019\n",
      "HEALTH_TYP                       -0.056974\n",
      "ANZ_PERSONEN                     -0.064180\n",
      "BALLRAUM                         -0.064699\n",
      "SEMIO_VERT                       -0.072775\n",
      "KBA05_ANTG1                      -0.074406\n",
      "KONSUMNAEHE                      -0.074799\n",
      "PLZ8_GBZ                         -0.075153\n",
      "INNENSTADT                       -0.079661\n",
      "MOBI_REGIO                       -0.080840\n",
      "KBA05_GBZ                        -0.092366\n",
      "PLZ8_ANTG1                       -0.096339\n",
      "SEMIO_SOZ                        -0.103208\n",
      "SEMIO_MAT                        -0.161721\n",
      "ONLINE_AFFINITAET                -0.165413\n",
      "SEMIO_RAT                        -0.166974\n",
      "SEMIO_FAM                        -0.184304\n",
      "FINANZ_ANLEGER                   -0.202720\n",
      "SEMIO_KULT                       -0.219734\n",
      "SEMIO_PFLICHT                    -0.225445\n",
      "FINANZ_UNAUFFAELLIGER            -0.225492\n",
      "SEMIO_TRADV                      -0.228273\n",
      "FINANZ_SPARER                    -0.231660\n",
      "PRAEGENDE_JUGENDJAHRE_DECADE     -0.238552\n",
      "SEMIO_REL                        -0.253635\n",
      "Name: 1, Length: 64, dtype: float64\n"
     ]
    }
   ],
   "source": [
    "# Map weights for the second principal component to corresponding feature names\n",
    "# and then print the linked values, sorted by weight.\n",
    "weights_2 =  map_weight(pca, 1, azdias_standard)\n",
    "print(weights_2)\n",
    "\n"
   ]
  },
  {
   "cell_type": "code",
   "execution_count": 50,
   "metadata": {},
   "outputs": [
    {
     "name": "stdout",
     "output_type": "stream",
     "text": [
      "SEMIO_VERT                        0.344663\n",
      "SEMIO_SOZ                         0.261933\n",
      "SEMIO_FAM                         0.248836\n",
      "SEMIO_KULT                        0.233937\n",
      "FINANZ_MINIMALIST                 0.154492\n",
      "RETOURTYP_BK_S                    0.108973\n",
      "FINANZ_VORSORGER                  0.101711\n",
      "W_KEIT_KIND_HH                    0.085079\n",
      "ALTERSKATEGORIE_GROB              0.079615\n",
      "SEMIO_REL                         0.067672\n",
      "SEMIO_LUST                        0.064451\n",
      "SEMIO_MAT                         0.055671\n",
      "ORTSGR_KLS9                       0.050284\n",
      "EWDICHTE                          0.049493\n",
      "PLZ8_ANTG4                        0.049208\n",
      "PLZ8_ANTG3                        0.048411\n",
      "GREEN_AVANTGARDE                  0.047104\n",
      "ARBEIT                            0.037364\n",
      "RELAT_AB                          0.034365\n",
      "PLZ8_ANTG2                        0.032675\n",
      "WOHNDAUER_2008                    0.032651\n",
      "CAMEO_INTL_2015_WEALTH            0.030184\n",
      "KBA05_ANTG4                       0.029999\n",
      "ANZ_HAUSHALTE_AKTIV               0.026815\n",
      "OST_WEST_KZ                       0.016319\n",
      "ANZ_HH_TITEL                      0.013918\n",
      "KBA05_ANTG3                       0.011906\n",
      "ANZ_TITEL                         0.009635\n",
      "PLZ8_HHZ                          0.005638\n",
      "VERS_TYP                          0.001620\n",
      "                                    ...   \n",
      "ANZ_PERSONEN                     -0.010725\n",
      "KKK                              -0.015512\n",
      "HH_EINKOMMEN_SCORE               -0.016392\n",
      "MIN_GEBAEUDEJAHR                 -0.018368\n",
      "KBA05_ANTG1                      -0.022127\n",
      "KBA13_ANZAHL_PKW                 -0.023911\n",
      "MOBI_REGIO                       -0.026794\n",
      "KBA05_GBZ                        -0.029018\n",
      "GEBAEUDETYP_RASTER               -0.032112\n",
      "HEALTH_TYP                       -0.034074\n",
      "BALLRAUM                         -0.037239\n",
      "FINANZ_HAUSBAUER                 -0.039722\n",
      "KONSUMNAEHE                      -0.040450\n",
      "PLZ8_GBZ                         -0.040540\n",
      "INNENSTADT                       -0.045748\n",
      "PRAEGENDE_JUGENDJAHRE_MOVEMENT   -0.047104\n",
      "PLZ8_ANTG1                       -0.049402\n",
      "ONLINE_AFFINITAET                -0.055715\n",
      "SEMIO_TRADV                      -0.079276\n",
      "SEMIO_PFLICHT                    -0.080065\n",
      "FINANZ_UNAUFFAELLIGER            -0.101116\n",
      "FINANZ_SPARER                    -0.107210\n",
      "PRAEGENDE_JUGENDJAHRE_DECADE     -0.111704\n",
      "SEMIO_ERL                        -0.175284\n",
      "FINANZ_ANLEGER                   -0.190987\n",
      "SEMIO_RAT                        -0.217715\n",
      "SEMIO_KRIT                       -0.275201\n",
      "SEMIO_DOM                        -0.313070\n",
      "SEMIO_KAEM                       -0.335050\n",
      "ANREDE_KZ                        -0.367353\n",
      "Name: 2, Length: 64, dtype: float64\n"
     ]
    }
   ],
   "source": [
    "# Map weights for the third principal component to corresponding feature names\n",
    "# and then print the linked values, sorted by weight.\n",
    "weights_3 =  map_weight(pca, 2, azdias_standard)\n",
    "print(weights_3)\n",
    "\n"
   ]
  },
  {
   "cell_type": "markdown",
   "metadata": {},
   "source": [
    "### Discussion 2.3: Interpret Principal Components\n",
    "\n",
    "\n",
    "\n",
    "\n",
    "Component 1: For the first component, the highest weighted features were PLZ8_ANTG3, PLZ8_ANTG4, CAMEO_INTL_2015_WEALTH and HH_EINKOMMEN_SCORE with weights of 0.225345, 0.216872, 0.204627, 0.202187 respectively. PLZ8_ANTG3, PLZ8_ANTG4 relate to large family sizes, exceeding 6 people, in the PLZ8 area. CAMEO_INTL_2015_WEALTH relates to the wealth of a household while HH_EINKOMMEN_SCORE relates to net income. It makes sense that these features are correlated since large families tend to have a higher net income and hence are more wealthy. The highest negatively weighted features were FINANZ_MINIMALIST, MOBI_REGIO and PLZ8_ANTG1 with weights of -0.223093, -0.224811 and -0.225665 respectively. It makes sense that these features are negatively correlated to the the previously mentioned features as these refer more to financial minimalism, mobility and small family sizes, while the previosuly mentioned onces referred to the opposite, large family sizes and wealthy households\n",
    "\n",
    "Component 2: For the second component, the highest weighted features were ALTERSKATEGORIE_GROB, SEMIO_ERL and FINANZ_VORSORGER with weights of 0.256265, 0.229916 and 0.229239 respectively. ALTERSKATEGORIE_GROB refers to age, SEMIO_ERL refers to personality typology, a person that is event oriented and FINANZ_VORSORGER refers to financial typlogy, individuals who are always prepared int terms of monetary needs. The correlation between these is interesting as it indicates that not only does a persons personality and financial strategy depend on their age, their personality also comes across in their financial strategy. The highest negatively weighted features were FINANZ_SPARER, PRAEGENDE_JUGENDJAHRE_DECADE and SEMIO_REL with weights of, -0.231660, -0.238552 and -0.253635 respectively. PRAEGENDE_JUGENDJAHRE_DECADE indicates which decade an indiviual were a youth in and the dominant movement of the time, FINANZ_SPARER refers to individuals who save money and SEMIO_REL refers to a religious individuals. The negative correlation between these features and the previously mentioned ones is not intuitively apparent.\n",
    "\n",
    "Component 3: For the third component, the highest weighted features were SEMIO_VERT, SEMIO_SOZ, SEMIO_FAM, SEMIO_KULT with weights of 0.344663, 0.261933, 0.248836, 0.233937 respectively.All of these features refer to personality typology. They encompass individuals who are family-minded, socially minded, culturally minded and dreamful. These correlations are apparent and make sense. The highest negative weighted features were SEMIO_DOM, SEMIO_KAEM, ANREDE_KZ with weights of -0.313070, -0.335050, -0.367353 respectively. SEMIO_DOM, SEMIO_KAEM refer to dominant and combative minded individuals and it makes sense these are negatively correlated to the previously mentioned, socially minded and family minded features as those qualities are opposites."
   ]
  },
  {
   "cell_type": "markdown",
   "metadata": {},
   "source": [
    "## Step 3: Clustering\n",
    "\n",
    "### Step 3.1: Apply Clustering to General Population\n",
    "\n",
    "You've assessed and cleaned the demographics data, then scaled and transformed them. Now, it's time to see how the data clusters in the principal components space. In this substep, you will apply k-means clustering to the dataset and use the average within-cluster distances from each point to their assigned cluster's centroid to decide on a number of clusters to keep.\n",
    "\n",
    "- Use sklearn's [KMeans](http://scikit-learn.org/stable/modules/generated/sklearn.cluster.KMeans.html#sklearn.cluster.KMeans) class to perform k-means clustering on the PCA-transformed data.\n",
    "- Then, compute the average difference from each point to its assigned cluster's center. **Hint**: The KMeans object's `.score()` method might be useful here, but note that in sklearn, scores tend to be defined so that larger is better. Try applying it to a small, toy dataset, or use an internet search to help your understanding.\n",
    "- Perform the above two steps for a number of different cluster counts. You can then see how the average distance decreases with an increasing number of clusters. However, each additional cluster provides a smaller net benefit. Use this fact to select a final number of clusters in which to group the data. **Warning**: because of the large size of the dataset, it can take a long time for the algorithm to resolve. The more clusters to fit, the longer the algorithm will take. You should test for cluster counts through at least 10 clusters to get the full picture, but you shouldn't need to test for a number of clusters above about 30.\n",
    "- Once you've selected a final number of clusters to use, re-fit a KMeans instance to perform the clustering operation. Make sure that you also obtain the cluster assignments for the general demographics data, since you'll be using them in the final Step 3.3."
   ]
  },
  {
   "cell_type": "code",
   "execution_count": 55,
   "metadata": {},
   "outputs": [],
   "source": [
    "# Over a number of different cluster counts...\n",
    "# run k-means clustering on the data and...\n",
    "# compute the average within-cluster distances.\n",
    "#function determines score of a particular model\n",
    "def do_kmeans(num_clusters, data):\n",
    "    our_kmeans = KMeans(n_clusters = num_clusters)\n",
    "    model = our_kmeans.fit(data)\n",
    "    return np.abs(model.score(data))\n",
    "    \n",
    "    "
   ]
  },
  {
   "cell_type": "code",
   "execution_count": 56,
   "metadata": {},
   "outputs": [
    {
     "name": "stdout",
     "output_type": "stream",
     "text": [
      "[39612313.820534833, 36307764.121821128, 34242116.620302156, 32746848.261941101, 31516205.395313744, 30371021.294478334, 29531213.752202678, 28929298.766324755, 28168163.449788526, 27515994.099783607, 27193208.00521525, 26734522.311281417, 26411599.776048481, 26288008.789670207, 25692662.198743429, 25514939.228142429, 25333569.093381453, 24656633.581805684, 24475674.204820007, 24272306.119149778, 23897357.28134397, 23801734.941430796, 23689210.21575997, 23302381.527421951]\n"
     ]
    }
   ],
   "source": [
    "#try out different rumber of clusters\n",
    "scores=[]\n",
    "for i in range(2,26):\n",
    "    scores.append(do_kmeans(i, X_pca))\n",
    "\n",
    "print(scores)"
   ]
  },
  {
   "cell_type": "code",
   "execution_count": 63,
   "metadata": {},
   "outputs": [
    {
     "data": {
      "image/png": "[encoded data removed]",
      "text/plain": [
       "<matplotlib.figure.Figure at 0x7f71815bb0f0>"
      ]
     },
     "metadata": {
      "needs_background": "light"
     },
     "output_type": "display_data"
    }
   ],
   "source": [
    "# Investigate the change in within-cluster distance across number of clusters.\n",
    "# HINT: Use matplotlib's plot function to visualize this relationship.\n",
    "plt.plot(range(len(scores)), scores, marker = 'o')\n",
    "plt.xlabel('number of clusters')\n",
    "plt.ylabel('Score')\n",
    "plt.title('Score of a model based on muber of clusters')\n",
    "plt.show()\n"
   ]
  },
  {
   "cell_type": "code",
   "execution_count": 64,
   "metadata": {},
   "outputs": [],
   "source": [
    "# Re-fit the k-means model with the selected number of clusters and obtain\n",
    "# cluster predictions for the general population demographics data.\n",
    "our_kmeans = KMeans(n_clusters = 17)\n",
    "model = our_kmeans.fit(X_pca)\n",
    "azdias_pred = model.predict(X_pca)\n"
   ]
  },
  {
   "cell_type": "markdown",
   "metadata": {},
   "source": [
    "### Discussion 3.1: Apply Clustering to General Population\n",
    "\n",
    "Plotting the scores obtained from running the Kmeans algorithm on a number of different clusters shows that at around n_clusters = 17 the score starts to level out. Hence based on the elbow method I chose the number of clusters to be 17"
   ]
  },
  {
   "cell_type": "markdown",
   "metadata": {},
   "source": [
    "### Step 3.2: Apply All Steps to the Customer Data\n",
    "\n",
    "Now that you have clusters and cluster centers for the general population, it's time to see how the customer data maps on to those clusters. Take care to not confuse this for re-fitting all of the models to the customer data. Instead, you're going to use the fits from the general population to clean, transform, and cluster the customer data. In the last step of the project, you will interpret how the general population fits apply to the customer data.\n",
    "\n",
    "- Don't forget when loading in the customers data, that it is semicolon (`;`) delimited.\n",
    "- Apply the same feature wrangling, selection, and engineering steps to the customer demographics using the `clean_data()` function you created earlier. (You can assume that the customer demographics data has similar meaning behind missing data patterns as the general demographics data.)\n",
    "- Use the sklearn objects from the general demographics data, and apply their transformations to the customers data. That is, you should not be using a `.fit()` or `.fit_transform()` method to re-fit the old objects, nor should you be creating new sklearn objects! Carry the data through the feature scaling, PCA, and clustering steps, obtaining cluster assignments for all of the data in the customer demographics data."
   ]
  },
  {
   "cell_type": "code",
   "execution_count": 97,
   "metadata": {},
   "outputs": [],
   "source": [
    "# Load in the customer demographics data.\n",
    "customers = pd.read_csv('Udacity_CUSTOMERS_Subset.csv', delimiter = ';')"
   ]
  },
  {
   "cell_type": "code",
   "execution_count": 98,
   "metadata": {},
   "outputs": [
    {
     "data": {
      "text/plain": [
       "(191652, 85)"
      ]
     },
     "execution_count": 98,
     "metadata": {},
     "output_type": "execute_result"
    }
   ],
   "source": [
    "customers.shape"
   ]
  },
  {
   "cell_type": "code",
   "execution_count": 67,
   "metadata": {},
   "outputs": [],
   "source": [
    "# Apply preprocessing, feature transformation, and clustering from the general\n",
    "# demographics onto the customer data, obtaining cluster predictions for the\n",
    "# customer demographics data."
   ]
  },
  {
   "cell_type": "code",
   "execution_count": 99,
   "metadata": {},
   "outputs": [
    {
     "name": "stdout",
     "output_type": "stream",
     "text": [
      "['ANREDE_KZ', 'GREEN_AVANTGARDE', 'SOHO_KZ', 'VERS_TYP', 'OST_WEST_KZ']\n",
      "['CJT_GESAMTTYP', 'FINANZTYP', 'GFK_URLAUBERTYP', 'LP_FAMILIE_FEIN', 'LP_FAMILIE_GROB', 'LP_STATUS_FEIN', 'LP_STATUS_GROB', 'NATIONALITAET_KZ', 'SHOPPER_TYP', 'ZABEOTYP', 'GEBAEUDETYP', 'CAMEO_DEUG_2015', 'CAMEO_DEU_2015']\n",
      "[1 2] ANREDE_KZ\n",
      "[1 0] GREEN_AVANTGARDE\n",
      "[ 0.  1.] SOHO_KZ\n",
      "[  1.   2.  nan] VERS_TYP\n",
      "['W' 'O'] OST_WEST_KZ\n"
     ]
    },
    {
     "name": "stderr",
     "output_type": "stream",
     "text": [
      "/opt/conda/lib/python3.6/site-packages/ipykernel_launcher.py:7: SettingWithCopyWarning: \n",
      "A value is trying to be set on a copy of a slice from a DataFrame.\n",
      "Try using .loc[row_indexer,col_indexer] = value instead\n",
      "\n",
      "See the caveats in the documentation: http://pandas.pydata.org/pandas-docs/stable/indexing.html#indexing-view-versus-copy\n",
      "  import sys\n"
     ]
    },
    {
     "name": "stdout",
     "output_type": "stream",
     "text": [
      "0    130382\n",
      "1     11343\n",
      "Name: OST_WEST_KZ, dtype: int64\n"
     ]
    },
    {
     "name": "stderr",
     "output_type": "stream",
     "text": [
      "/opt/conda/lib/python3.6/site-packages/pandas/core/frame.py:3697: SettingWithCopyWarning: \n",
      "A value is trying to be set on a copy of a slice from a DataFrame\n",
      "\n",
      "See the caveats in the documentation: http://pandas.pydata.org/pandas-docs/stable/indexing.html#indexing-view-versus-copy\n",
      "  errors=errors)\n",
      "/opt/conda/lib/python3.6/site-packages/ipykernel_launcher.py:4: SettingWithCopyWarning: \n",
      "A value is trying to be set on a copy of a slice from a DataFrame.\n",
      "Try using .loc[row_indexer,col_indexer] = value instead\n",
      "\n",
      "See the caveats in the documentation: http://pandas.pydata.org/pandas-docs/stable/indexing.html#indexing-view-versus-copy\n",
      "  after removing the cwd from sys.path.\n",
      "/opt/conda/lib/python3.6/site-packages/ipykernel_launcher.py:3: SettingWithCopyWarning: \n",
      "A value is trying to be set on a copy of a slice from a DataFrame.\n",
      "Try using .loc[row_indexer,col_indexer] = value instead\n",
      "\n",
      "See the caveats in the documentation: http://pandas.pydata.org/pandas-docs/stable/indexing.html#indexing-view-versus-copy\n",
      "  This is separate from the ipykernel package so we can avoid doing imports until\n",
      "/opt/conda/lib/python3.6/site-packages/ipykernel_launcher.py:10: SettingWithCopyWarning: \n",
      "A value is trying to be set on a copy of a slice from a DataFrame.\n",
      "Try using .loc[row_indexer,col_indexer] = value instead\n",
      "\n",
      "See the caveats in the documentation: http://pandas.pydata.org/pandas-docs/stable/indexing.html#indexing-view-versus-copy\n",
      "  # Remove the CWD from sys.path while we load stuff.\n",
      "/opt/conda/lib/python3.6/site-packages/ipykernel_launcher.py:9: SettingWithCopyWarning: \n",
      "A value is trying to be set on a copy of a slice from a DataFrame.\n",
      "Try using .loc[row_indexer,col_indexer] = value instead\n",
      "\n",
      "See the caveats in the documentation: http://pandas.pydata.org/pandas-docs/stable/indexing.html#indexing-view-versus-copy\n",
      "  if __name__ == '__main__':\n"
     ]
    },
    {
     "data": {
      "image/png": "[encoded data removed]",
      "text/plain": [
       "<matplotlib.figure.Figure at 0x7f7144444470>"
      ]
     },
     "metadata": {
      "needs_background": "light"
     },
     "output_type": "display_data"
    }
   ],
   "source": [
    "#applying preprocessing to the customer df via the clean_data function\n",
    "customers = clean_data(customers, feat_info)"
   ]
  },
  {
   "cell_type": "code",
   "execution_count": 100,
   "metadata": {},
   "outputs": [
    {
     "data": {
      "text/plain": [
       "(141725, 64)"
      ]
     },
     "execution_count": 100,
     "metadata": {},
     "output_type": "execute_result"
    }
   ],
   "source": [
    "customers.shape"
   ]
  },
  {
   "cell_type": "code",
   "execution_count": 101,
   "metadata": {},
   "outputs": [],
   "source": [
    "#fill NaN values using Imputer\n",
    "customers = clean(customers)"
   ]
  },
  {
   "cell_type": "code",
   "execution_count": 102,
   "metadata": {},
   "outputs": [],
   "source": [
    "#feature scaling\n",
    "customers = pd.DataFrame(scaler.transform(customers), columns = customers.columns)"
   ]
  },
  {
   "cell_type": "code",
   "execution_count": 103,
   "metadata": {},
   "outputs": [
    {
     "data": {
      "text/html": [
       "<div>\n",
       "<style scoped>\n",
       "    .dataframe tbody tr th:only-of-type {\n",
       "        vertical-align: middle;\n",
       "    }\n",
       "\n",
       "    .dataframe tbody tr th {\n",
       "        vertical-align: top;\n",
       "    }\n",
       "\n",
       "    .dataframe thead th {\n",
       "        text-align: right;\n",
       "    }\n",
       "</style>\n",
       "<table border=\"1\" class=\"dataframe\">\n",
       "  <thead>\n",
       "    <tr style=\"text-align: right;\">\n",
       "      <th></th>\n",
       "      <th>ALTERSKATEGORIE_GROB</th>\n",
       "      <th>ANREDE_KZ</th>\n",
       "      <th>FINANZ_MINIMALIST</th>\n",
       "      <th>FINANZ_SPARER</th>\n",
       "      <th>FINANZ_VORSORGER</th>\n",
       "      <th>FINANZ_ANLEGER</th>\n",
       "      <th>FINANZ_UNAUFFAELLIGER</th>\n",
       "      <th>FINANZ_HAUSBAUER</th>\n",
       "      <th>GREEN_AVANTGARDE</th>\n",
       "      <th>HEALTH_TYP</th>\n",
       "      <th>...</th>\n",
       "      <th>PLZ8_ANTG4</th>\n",
       "      <th>PLZ8_HHZ</th>\n",
       "      <th>PLZ8_GBZ</th>\n",
       "      <th>ARBEIT</th>\n",
       "      <th>ORTSGR_KLS9</th>\n",
       "      <th>RELAT_AB</th>\n",
       "      <th>PRAEGENDE_JUGENDJAHRE_DECADE</th>\n",
       "      <th>PRAEGENDE_JUGENDJAHRE_MOVEMENT</th>\n",
       "      <th>CAMEO_INTL_2015_WEALTH</th>\n",
       "      <th>CAMEO_INTL_2015_LIFESTAGE</th>\n",
       "    </tr>\n",
       "  </thead>\n",
       "  <tbody>\n",
       "    <tr>\n",
       "      <th>0</th>\n",
       "      <td>1.184107</td>\n",
       "      <td>-1.043937</td>\n",
       "      <td>1.409058</td>\n",
       "      <td>-1.155519</td>\n",
       "      <td>1.138172</td>\n",
       "      <td>-1.249987</td>\n",
       "      <td>-0.470414</td>\n",
       "      <td>-0.791197</td>\n",
       "      <td>1.885345</td>\n",
       "      <td>-1.633804</td>\n",
       "      <td>...</td>\n",
       "      <td>-0.934791</td>\n",
       "      <td>1.455855</td>\n",
       "      <td>1.485812</td>\n",
       "      <td>-2.174899</td>\n",
       "      <td>-1.432804</td>\n",
       "      <td>-1.525981</td>\n",
       "      <td>-1.633632</td>\n",
       "      <td>-1.885345</td>\n",
       "      <td>-1.551461</td>\n",
       "      <td>0.095102</td>\n",
       "    </tr>\n",
       "    <tr>\n",
       "      <th>1</th>\n",
       "      <td>1.184107</td>\n",
       "      <td>0.957912</td>\n",
       "      <td>1.409058</td>\n",
       "      <td>-1.155519</td>\n",
       "      <td>1.138172</td>\n",
       "      <td>-1.249987</td>\n",
       "      <td>0.958633</td>\n",
       "      <td>0.629147</td>\n",
       "      <td>1.885345</td>\n",
       "      <td>-0.311824</td>\n",
       "      <td>...</td>\n",
       "      <td>0.442535</td>\n",
       "      <td>-0.616363</td>\n",
       "      <td>-1.248696</td>\n",
       "      <td>-0.171399</td>\n",
       "      <td>-0.127042</td>\n",
       "      <td>-0.052070</td>\n",
       "      <td>-1.633632</td>\n",
       "      <td>-1.885345</td>\n",
       "      <td>-0.187903</td>\n",
       "      <td>0.767097</td>\n",
       "    </tr>\n",
       "    <tr>\n",
       "      <th>2</th>\n",
       "      <td>1.184107</td>\n",
       "      <td>-1.043937</td>\n",
       "      <td>1.409058</td>\n",
       "      <td>-1.155519</td>\n",
       "      <td>1.138172</td>\n",
       "      <td>-0.570999</td>\n",
       "      <td>-1.184938</td>\n",
       "      <td>-0.791197</td>\n",
       "      <td>-0.530407</td>\n",
       "      <td>-0.311824</td>\n",
       "      <td>...</td>\n",
       "      <td>-0.934791</td>\n",
       "      <td>-0.616363</td>\n",
       "      <td>0.574309</td>\n",
       "      <td>-2.174899</td>\n",
       "      <td>-0.997550</td>\n",
       "      <td>-1.525981</td>\n",
       "      <td>-2.316556</td>\n",
       "      <td>0.530407</td>\n",
       "      <td>-0.869682</td>\n",
       "      <td>0.767097</td>\n",
       "    </tr>\n",
       "    <tr>\n",
       "      <th>3</th>\n",
       "      <td>0.200522</td>\n",
       "      <td>-1.043937</td>\n",
       "      <td>-0.042768</td>\n",
       "      <td>-1.155519</td>\n",
       "      <td>0.411886</td>\n",
       "      <td>0.786977</td>\n",
       "      <td>1.673157</td>\n",
       "      <td>-0.791197</td>\n",
       "      <td>-0.530407</td>\n",
       "      <td>1.010156</td>\n",
       "      <td>...</td>\n",
       "      <td>0.442535</td>\n",
       "      <td>-0.616363</td>\n",
       "      <td>-0.337194</td>\n",
       "      <td>-0.171399</td>\n",
       "      <td>-0.127042</td>\n",
       "      <td>-1.525981</td>\n",
       "      <td>-0.267784</td>\n",
       "      <td>0.530407</td>\n",
       "      <td>0.493876</td>\n",
       "      <td>-1.248888</td>\n",
       "    </tr>\n",
       "    <tr>\n",
       "      <th>4</th>\n",
       "      <td>0.200522</td>\n",
       "      <td>-1.043937</td>\n",
       "      <td>1.409058</td>\n",
       "      <td>-1.155519</td>\n",
       "      <td>1.138172</td>\n",
       "      <td>-1.249987</td>\n",
       "      <td>-0.470414</td>\n",
       "      <td>-0.081025</td>\n",
       "      <td>1.885345</td>\n",
       "      <td>1.010156</td>\n",
       "      <td>...</td>\n",
       "      <td>0.442535</td>\n",
       "      <td>1.455855</td>\n",
       "      <td>1.485812</td>\n",
       "      <td>-0.171399</td>\n",
       "      <td>0.743466</td>\n",
       "      <td>1.421840</td>\n",
       "      <td>-1.633632</td>\n",
       "      <td>-1.885345</td>\n",
       "      <td>-0.187903</td>\n",
       "      <td>0.767097</td>\n",
       "    </tr>\n",
       "  </tbody>\n",
       "</table>\n",
       "<p>5 rows × 64 columns</p>\n",
       "</div>"
      ],
      "text/plain": [
       "   ALTERSKATEGORIE_GROB  ANREDE_KZ  FINANZ_MINIMALIST  FINANZ_SPARER  \\\n",
       "0              1.184107  -1.043937           1.409058      -1.155519   \n",
       "1              1.184107   0.957912           1.409058      -1.155519   \n",
       "2              1.184107  -1.043937           1.409058      -1.155519   \n",
       "3              0.200522  -1.043937          -0.042768      -1.155519   \n",
       "4              0.200522  -1.043937           1.409058      -1.155519   \n",
       "\n",
       "   FINANZ_VORSORGER  FINANZ_ANLEGER  FINANZ_UNAUFFAELLIGER  FINANZ_HAUSBAUER  \\\n",
       "0          1.138172       -1.249987              -0.470414         -0.791197   \n",
       "1          1.138172       -1.249987               0.958633          0.629147   \n",
       "2          1.138172       -0.570999              -1.184938         -0.791197   \n",
       "3          0.411886        0.786977               1.673157         -0.791197   \n",
       "4          1.138172       -1.249987              -0.470414         -0.081025   \n",
       "\n",
       "   GREEN_AVANTGARDE  HEALTH_TYP            ...              PLZ8_ANTG4  \\\n",
       "0          1.885345   -1.633804            ...               -0.934791   \n",
       "1          1.885345   -0.311824            ...                0.442535   \n",
       "2         -0.530407   -0.311824            ...               -0.934791   \n",
       "3         -0.530407    1.010156            ...                0.442535   \n",
       "4          1.885345    1.010156            ...                0.442535   \n",
       "\n",
       "   PLZ8_HHZ  PLZ8_GBZ    ARBEIT  ORTSGR_KLS9  RELAT_AB  \\\n",
       "0  1.455855  1.485812 -2.174899    -1.432804 -1.525981   \n",
       "1 -0.616363 -1.248696 -0.171399    -0.127042 -0.052070   \n",
       "2 -0.616363  0.574309 -2.174899    -0.997550 -1.525981   \n",
       "3 -0.616363 -0.337194 -0.171399    -0.127042 -1.525981   \n",
       "4  1.455855  1.485812 -0.171399     0.743466  1.421840   \n",
       "\n",
       "   PRAEGENDE_JUGENDJAHRE_DECADE  PRAEGENDE_JUGENDJAHRE_MOVEMENT  \\\n",
       "0                     -1.633632                       -1.885345   \n",
       "1                     -1.633632                       -1.885345   \n",
       "2                     -2.316556                        0.530407   \n",
       "3                     -0.267784                        0.530407   \n",
       "4                     -1.633632                       -1.885345   \n",
       "\n",
       "   CAMEO_INTL_2015_WEALTH  CAMEO_INTL_2015_LIFESTAGE  \n",
       "0               -1.551461                   0.095102  \n",
       "1               -0.187903                   0.767097  \n",
       "2               -0.869682                   0.767097  \n",
       "3                0.493876                  -1.248888  \n",
       "4               -0.187903                   0.767097  \n",
       "\n",
       "[5 rows x 64 columns]"
      ]
     },
     "execution_count": 103,
     "metadata": {},
     "output_type": "execute_result"
    }
   ],
   "source": [
    "customers.head(5)"
   ]
  },
  {
   "cell_type": "code",
   "execution_count": 104,
   "metadata": {},
   "outputs": [],
   "source": [
    "#apply pca\n",
    "customers_pca = pca.transform(customers)"
   ]
  },
  {
   "cell_type": "code",
   "execution_count": 105,
   "metadata": {},
   "outputs": [],
   "source": [
    "#apply KMEANS\n",
    "customers_pred = model.predict(customers_pca)\n",
    "\n"
   ]
  },
  {
   "cell_type": "markdown",
   "metadata": {},
   "source": [
    "### Step 3.3: Compare Customer Data to Demographics Data\n",
    "\n",
    "At this point, you have clustered data based on demographics of the general population of Germany, and seen how the customer data for a mail-order sales company maps onto those demographic clusters. In this final substep, you will compare the two cluster distributions to see where the strongest customer base for the company is.\n",
    "\n",
    "Consider the proportion of persons in each cluster for the general population, and the proportions for the customers. If we think the company's customer base to be universal, then the cluster assignment proportions should be fairly similar between the two. If there are only particular segments of the population that are interested in the company's products, then we should see a mismatch from one to the other. If there is a higher proportion of persons in a cluster for the customer data compared to the general population (e.g. 5% of persons are assigned to a cluster for the general population, but 15% of the customer data is closest to that cluster's centroid) then that suggests the people in that cluster to be a target audience for the company. On the other hand, the proportion of the data in a cluster being larger in the general population than the customer data (e.g. only 2% of customers closest to a population centroid that captures 6% of the data) suggests that group of persons to be outside of the target demographics.\n",
    "\n",
    "Take a look at the following points in this step:\n",
    "\n",
    "- Compute the proportion of data points in each cluster for the general population and the customer data. Visualizations will be useful here: both for the individual dataset proportions, but also to visualize the ratios in cluster representation between groups. Seaborn's [`countplot()`](https://seaborn.pydata.org/generated/seaborn.countplot.html) or [`barplot()`](https://seaborn.pydata.org/generated/seaborn.barplot.html) function could be handy.\n",
    "  - Recall the analysis you performed in step 1.1.3 of the project, where you separated out certain data points from the dataset if they had more than a specified threshold of missing values. If you found that this group was qualitatively different from the main bulk of the data, you should treat this as an additional data cluster in this analysis. Make sure that you account for the number of data points in this subset, for both the general population and customer datasets, when making your computations!\n",
    "- Which cluster or clusters are overrepresented in the customer dataset compared to the general population? Select at least one such cluster and infer what kind of people might be represented by that cluster. Use the principal component interpretations from step 2.3 or look at additional components to help you make this inference. Alternatively, you can use the `.inverse_transform()` method of the PCA and StandardScaler objects to transform centroids back to the original data space and interpret the retrieved values directly.\n",
    "- Perform a similar investigation for the underrepresented clusters. Which cluster or clusters are underrepresented in the customer dataset compared to the general population, and what kinds of people are typified by these clusters?"
   ]
  },
  {
   "cell_type": "code",
   "execution_count": 110,
   "metadata": {},
   "outputs": [
    {
     "data": {
      "text/plain": [
       "Text(0.5,1,'Number of people in Customer cluster')"
      ]
     },
     "execution_count": 110,
     "metadata": {},
     "output_type": "execute_result"
    },
    {
     "data": {
      "image/png": "[encoded data removed]",
      "text/plain": [
       "<matplotlib.figure.Figure at 0x7f7181bdd128>"
      ]
     },
     "metadata": {
      "needs_background": "light"
     },
     "output_type": "display_data"
    }
   ],
   "source": [
    "# Compare the proportion of data in each cluster for the customer data to the\n",
    "# proportion of data in each cluster for the general population.\n",
    "figure, axs = plt.subplots( ncols = 2, figsize = (15,6))\n",
    "sns.countplot(azdias_pred, ax = axs[0])\n",
    "axs[0].set_title('Number of people in General population clusters')\n",
    "sns.countplot(customers_pred, ax = axs[1])\n",
    "axs[1].set_title('Number of people in Customer cluster')\n"
   ]
  },
  {
   "cell_type": "code",
   "execution_count": 111,
   "metadata": {},
   "outputs": [],
   "source": [
    "# What kinds of people are part of a cluster that is overrepresented in the\n",
    "# customer data compared to the general population?\n",
    "over_rep = scaler.inverse_transform(pca.inverse_transform((model.cluster_centers_[3])))\n"
   ]
  },
  {
   "cell_type": "code",
   "execution_count": 121,
   "metadata": {},
   "outputs": [
    {
     "name": "stdout",
     "output_type": "stream",
     "text": [
      "0.11672453565928675\n",
      "0.3522808255424237\n"
     ]
    }
   ],
   "source": [
    "#Discarded data comparison\n",
    "gen_pop_discard = azdias_og.shape[0]-azdias_low_missing.shape[0]\n",
    "customer_pop_discard = 191652-customers.shape[0]\n",
    "ratio_gen_discard = gen_pop_discard/azdias_low_missing.shape[0]\n",
    "ratio_customer_discard = customer_pop_discard/customers.shape[0]\n",
    "print(ratio_gen_discard)\n",
    "print(ratio_customer_discard)"
   ]
  },
  {
   "cell_type": "code",
   "execution_count": 118,
   "metadata": {},
   "outputs": [
    {
     "name": "stdout",
     "output_type": "stream",
     "text": [
      "MIN_GEBAEUDEJAHR                  1992.957314\n",
      "KBA13_ANZAHL_PKW                   700.379047\n",
      "WOHNDAUER_2008                       8.479246\n",
      "SEMIO_VERT                           6.255302\n",
      "ORTSGR_KLS9                          5.409498\n",
      "SEMIO_LUST                           5.247020\n",
      "SEMIO_KULT                           4.886968\n",
      "SEMIO_SOZ                            4.850129\n",
      "FINANZ_MINIMALIST                    4.850088\n",
      "SEMIO_FAM                            4.845092\n",
      "INNENSTADT                           4.507501\n",
      "W_KEIT_KIND_HH                       4.215334\n",
      "FINANZ_VORSORGER                     4.211768\n",
      "SEMIO_ERL                            4.095981\n",
      "KBA05_GBZ                            4.065130\n",
      "MOBI_REGIO                           4.062931\n",
      "BALLRAUM                             4.022103\n",
      "EWDICHTE                             4.018716\n",
      "RETOURTYP_BK_S                       4.005483\n",
      "SEMIO_MAT                            3.964771\n",
      "GEBAEUDETYP_RASTER                   3.950703\n",
      "PLZ8_GBZ                             3.909261\n",
      "SEMIO_REL                            3.720274\n",
      "PLZ8_HHZ                             3.713719\n",
      "CAMEO_INTL_2015_LIFESTAGE            3.623197\n",
      "PRAEGENDE_JUGENDJAHRE_DECADE         3.575572\n",
      "REGIOTYP                             3.524273\n",
      "KONSUMNAEHE                          3.358111\n",
      "SEMIO_DOM                            3.334805\n",
      "ALTERSKATEGORIE_GROB                 3.299587\n",
      "                                     ...     \n",
      "ARBEIT                               3.043422\n",
      "RELAT_AB                             2.927994\n",
      "PLZ8_ANTG1                           2.760271\n",
      "SEMIO_RAT                            2.700321\n",
      "KBA05_ANTG1                          2.667020\n",
      "SEMIO_KAEM                           2.641675\n",
      "PLZ8_ANTG2                           2.602950\n",
      "HH_EINKOMMEN_SCORE                   2.402477\n",
      "ANZ_PERSONEN                         2.218952\n",
      "KKK                                  2.158573\n",
      "FINANZ_UNAUFFAELLIGER                2.151058\n",
      "CAMEO_INTL_2015_WEALTH               2.090757\n",
      "HEALTH_TYP                           2.055721\n",
      "FINANZ_HAUSBAUER                     1.911887\n",
      "ANZ_HAUSHALTE_AKTIV                  1.850893\n",
      "FINANZ_SPARER                        1.598309\n",
      "VERS_TYP                             1.532386\n",
      "FINANZ_ANLEGER                       1.451475\n",
      "PLZ8_ANTG3                           1.200759\n",
      "KBA05_ANTG2                          1.073200\n",
      "ANREDE_KZ                            1.049298\n",
      "GREEN_AVANTGARDE                     0.992483\n",
      "PLZ8_ANTG4                           0.373661\n",
      "OST_WEST_KZ                          0.100782\n",
      "KBA05_ANTG3                          0.065333\n",
      "PRAEGENDE_JUGENDJAHRE_MOVEMENT       0.007517\n",
      "KBA05_ANTG4                          0.006568\n",
      "ANZ_HH_TITEL                         0.005486\n",
      "ANZ_TITEL                            0.000230\n",
      "SOHO_KZ                             -0.000033\n",
      "Length: 64, dtype: float64\n"
     ]
    }
   ],
   "source": [
    "over_rep_column = pd.Series(data = over_rep, index = azdias_low_missing.columns)\n",
    "print(over_rep_column.sort_values(ascending = False))\n"
   ]
  },
  {
   "cell_type": "code",
   "execution_count": 122,
   "metadata": {},
   "outputs": [
    {
     "name": "stdout",
     "output_type": "stream",
     "text": [
      "MIN_GEBAEUDEJAHR                  1992.481092\n",
      "KBA13_ANZAHL_PKW                   531.692231\n",
      "ANZ_HAUSHALTE_AKTIV                 12.901972\n",
      "WOHNDAUER_2008                       7.261209\n",
      "ORTSGR_KLS9                          6.942587\n",
      "SEMIO_PFLICHT                        6.280976\n",
      "SEMIO_RAT                            6.222042\n",
      "SEMIO_DOM                            6.169574\n",
      "SEMIO_KAEM                           6.133526\n",
      "PRAEGENDE_JUGENDJAHRE_DECADE         5.694466\n",
      "SEMIO_TRADV                          5.642790\n",
      "HH_EINKOMMEN_SCORE                   5.583730\n",
      "SEMIO_KRIT                           5.487009\n",
      "SEMIO_REL                            5.442742\n",
      "EWDICHTE                             5.179223\n",
      "REGIOTYP                             5.051746\n",
      "SEMIO_MAT                            5.006290\n",
      "CAMEO_INTL_2015_WEALTH               4.312084\n",
      "FINANZ_SPARER                        4.297062\n",
      "SEMIO_ERL                            4.263754\n",
      "W_KEIT_KIND_HH                       4.215245\n",
      "FINANZ_HAUSBAUER                     4.163128\n",
      "FINANZ_ANLEGER                       4.159036\n",
      "SEMIO_KULT                           4.157507\n",
      "SEMIO_FAM                            3.969956\n",
      "PLZ8_HHZ                             3.752930\n",
      "RELAT_AB                             3.745813\n",
      "FINANZ_UNAUFFAELLIGER                3.731461\n",
      "ARBEIT                               3.673716\n",
      "GEBAEUDETYP_RASTER                   3.413488\n",
      "                                     ...     \n",
      "SEMIO_LUST                           3.073837\n",
      "ONLINE_AFFINITAET                    2.951250\n",
      "KKK                                  2.874860\n",
      "PLZ8_GBZ                             2.744323\n",
      "RETOURTYP_BK_S                       2.620153\n",
      "PLZ8_ANTG3                           2.412504\n",
      "HEALTH_TYP                           2.309172\n",
      "SEMIO_VERT                           2.200614\n",
      "FINANZ_VORSORGER                     2.191556\n",
      "KBA05_GBZ                            2.190250\n",
      "KONSUMNAEHE                          2.102697\n",
      "CAMEO_INTL_2015_LIFESTAGE            2.040149\n",
      "ANREDE_KZ                            2.006794\n",
      "MOBI_REGIO                           1.775404\n",
      "ALTERSKATEGORIE_GROB                 1.638638\n",
      "VERS_TYP                             1.535056\n",
      "PLZ8_ANTG1                           1.486887\n",
      "ANZ_PERSONEN                         1.468960\n",
      "KBA05_ANTG2                          1.315249\n",
      "PLZ8_ANTG4                           1.243122\n",
      "KBA05_ANTG3                          1.196850\n",
      "FINANZ_MINIMALIST                    1.180894\n",
      "PRAEGENDE_JUGENDJAHRE_MOVEMENT       0.962458\n",
      "KBA05_ANTG4                          0.565980\n",
      "KBA05_ANTG1                          0.396105\n",
      "OST_WEST_KZ                          0.255486\n",
      "ANZ_HH_TITEL                         0.045559\n",
      "GREEN_AVANTGARDE                     0.037542\n",
      "SOHO_KZ                             -0.000028\n",
      "ANZ_TITEL                           -0.000056\n",
      "Length: 64, dtype: float64\n"
     ]
    }
   ],
   "source": [
    "# What kinds of people are part of a cluster that is underrepresented in the\n",
    "# customer data compared to the general population?\n",
    "under_rep = scaler.inverse_transform(pca.inverse_transform((model.cluster_centers_[7])))\n",
    "under_rep_column = pd.Series(data = under_rep, index = azdias_low_missing.columns)\n",
    "print(under_rep_column.sort_values(ascending = False))\n"
   ]
  },
  {
   "cell_type": "markdown",
   "metadata": {},
   "source": [
    "### Discussion 3.3: Compare Customer Data to Demographics Data\n",
    "\n",
    "Firstly, the data that was discarded due to a high number of NaN values, was overrepresented in the customer population clusters than in the general population cluster. Hence this data will need to be studied more closely.\n",
    "\n",
    "I decided to further analyse cluster 3 as it was overrepresented in the customer population. This cluster was associated with the following:\n",
    "1) A long(more than 7 years) length of residence in the individuals current house\n",
    "2) A medium sized community of around 20,000to 50,000 people\n",
    "3) Individuals with low movement\n",
    "4) Families with school age children or older families and mature couples\n",
    "5) Generally older people, who had their youths in the 60s/70s\n",
    "6) Higher income families\n",
    "7) Individuals who view themselves as 'rational'\n",
    "8) Lower share of 6-10 person families, smaller families\n",
    "9) Generally male\n",
    "10) Believers in environmental sustainability\n",
    "\n",
    "In general older, smaller and more wealthy families are overrepresented in the customer dataset, along with males, and hence should be targeted.\n",
    "\n",
    "I also decided to further analyse cluster 7 as it was underrepresented in the customer population. This cluster was associated with the following:\n",
    "1) Individuals who do not identify with being 'dutiful', 'combative', 'dominant'\n",
    "2) Younger individuals born in the 80s/90s\n",
    "3) Individuals who are not 'traditionally minded'\n",
    "4) Individuals with lower income\n",
    "5) Non-religious individuals\n",
    "6) Lower-middle class families\n",
    "7) Less affluent households\n",
    "8) Individuals with low money saving tendencies\n",
    "9) High online affinity\n",
    "10) Younger Couples\n",
    "11) Generally female\n",
    "12) high movement of household\n",
    "13) Less than 30yrs old or low 30s\n",
    "14) Financial minimalist\n",
    "\n",
    "In general younger and less wealthy families are underrepresented in the customer dataset, along with females, and hence should not be targeted.\n",
    "\n"
   ]
  },
  {
   "cell_type": "markdown",
   "metadata": {},
   "source": [
    "> Congratulations on making it this far in the project! Before you finish, make sure to check through the entire notebook from top to bottom to make sure that your analysis follows a logical flow and all of your findings are documented in **Discussion** cells. Once you've checked over all of your work, you should export the notebook as an HTML document to submit for evaluation. You can do this from the menu, navigating to **File -> Download as -> HTML (.html)**. You will submit both that document and this notebook for your project submission."
   ]
  },
  {
   "cell_type": "code",
   "execution_count": null,
   "metadata": {},
   "outputs": [],
   "source": []
  }
 ],
 "metadata": {
  "kernelspec": {
   "display_name": "Python 3",
   "language": "python",
   "name": "python3"
  },
  "language_info": {
   "codemirror_mode": {
    "name": "ipython",
    "version": 3
   },
   "file_extension": ".py",
   "mimetype": "text/x-python",
   "name": "python",
   "nbconvert_exporter": "python",
   "pygments_lexer": "ipython3",
   "version": "3.6.3"
  }
 },
 "nbformat": 4,
 "nbformat_minor": 2
}
